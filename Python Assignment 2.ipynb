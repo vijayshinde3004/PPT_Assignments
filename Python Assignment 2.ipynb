{
 "cells": [
  {
   "cell_type": "markdown",
   "id": "9d99069d",
   "metadata": {},
   "source": [
    "# Python Assignment 2"
   ]
  },
  {
   "cell_type": "markdown",
   "id": "ecd9f769",
   "metadata": {},
   "source": [
    "1. Write a Python program to reverse a string without using any built-in string reversal functions."
   ]
  },
  {
   "cell_type": "code",
   "execution_count": 2,
   "id": "c1cf7b4b",
   "metadata": {},
   "outputs": [],
   "source": [
    "def reverceString(s):\n",
    "    return s[::-1]\n",
    "    "
   ]
  },
  {
   "cell_type": "code",
   "execution_count": 3,
   "id": "d9ebd5d2",
   "metadata": {},
   "outputs": [
    {
     "data": {
      "text/plain": [
       "'noruenI'"
      ]
     },
     "execution_count": 3,
     "metadata": {},
     "output_type": "execute_result"
    }
   ],
   "source": [
    "reverceString(\"Ineuron\")"
   ]
  },
  {
   "cell_type": "markdown",
   "id": "fcba4265",
   "metadata": {},
   "source": [
    "2. Implement a function to check if a given string is a palindrome."
   ]
  },
  {
   "cell_type": "code",
   "execution_count": 4,
   "id": "70002bd2",
   "metadata": {},
   "outputs": [],
   "source": [
    "def palindrom(s):\n",
    "    if s==s[::-1]:\n",
    "        return \"String is palindrom\"\n",
    "    "
   ]
  },
  {
   "cell_type": "code",
   "execution_count": 5,
   "id": "a41e65a7",
   "metadata": {},
   "outputs": [
    {
     "data": {
      "text/plain": [
       "'String is palindrom'"
      ]
     },
     "execution_count": 5,
     "metadata": {},
     "output_type": "execute_result"
    }
   ],
   "source": [
    "palindrom(\"nayan\")"
   ]
  },
  {
   "cell_type": "markdown",
   "id": "d4f0216b",
   "metadata": {},
   "source": [
    "3. Write a program to find the largest element in a given list."
   ]
  },
  {
   "cell_type": "code",
   "execution_count": 6,
   "id": "aae8934c",
   "metadata": {},
   "outputs": [],
   "source": [
    "def largerelement(L):\n",
    "    ele=0\n",
    "    for i in L:\n",
    "        if i>ele:\n",
    "            ele=i\n",
    "            max1=ele\n",
    "    return max1   "
   ]
  },
  {
   "cell_type": "code",
   "execution_count": 7,
   "id": "a8e46955",
   "metadata": {},
   "outputs": [
    {
     "data": {
      "text/plain": [
       "86"
      ]
     },
     "execution_count": 7,
     "metadata": {},
     "output_type": "execute_result"
    }
   ],
   "source": [
    "largerelement([4,5,86,1,54,2,1,5])"
   ]
  },
  {
   "cell_type": "markdown",
   "id": "8430f1fd",
   "metadata": {},
   "source": [
    "4. Implement a function to count the occurrence of each element in a list."
   ]
  },
  {
   "cell_type": "code",
   "execution_count": 18,
   "id": "0270bc17",
   "metadata": {},
   "outputs": [],
   "source": [
    "def countele(L):\n",
    "    for i in set(L):\n",
    "        count=0\n",
    "        for j in L:\n",
    "            if i==j:\n",
    "                count+=1\n",
    "        print(i,count)"
   ]
  },
  {
   "cell_type": "code",
   "execution_count": 19,
   "id": "16c1a95e",
   "metadata": {},
   "outputs": [
    {
     "name": "stdout",
     "output_type": "stream",
     "text": [
      "1 3\n",
      "2 3\n",
      "4 1\n",
      "5 4\n",
      "7 1\n",
      "8 3\n",
      "54 1\n"
     ]
    }
   ],
   "source": [
    "countele([1,2,54,5,2,5,2,4,5,8,5,7,8,8,1,1])"
   ]
  },
  {
   "cell_type": "markdown",
   "id": "67beb912",
   "metadata": {},
   "source": [
    "5. Write a Python program to find the second largest number in a list."
   ]
  },
  {
   "cell_type": "code",
   "execution_count": 30,
   "id": "4a53a8ac",
   "metadata": {},
   "outputs": [],
   "source": [
    "def secoundlargerelement(L):\n",
    "    max1=max(L[0],L[1])\n",
    "    max2=min(L[0],L[1])\n",
    "    for i in set(L):\n",
    "        if i>max1:\n",
    "            max2=max1\n",
    "            max1=i\n",
    "    return max2   "
   ]
  },
  {
   "cell_type": "code",
   "execution_count": 31,
   "id": "f88507f8",
   "metadata": {},
   "outputs": [
    {
     "data": {
      "text/plain": [
       "54"
      ]
     },
     "execution_count": 31,
     "metadata": {},
     "output_type": "execute_result"
    }
   ],
   "source": [
    "secoundlargerelement([4,5,86,1,54,2,1,5])"
   ]
  },
  {
   "cell_type": "markdown",
   "id": "f62fad4b",
   "metadata": {},
   "source": [
    "6. Implement a function to remove duplicate elements from a list."
   ]
  },
  {
   "cell_type": "code",
   "execution_count": 46,
   "id": "dc72c101",
   "metadata": {},
   "outputs": [],
   "source": [
    "def deldublicate(L):\n",
    "    list1=[]\n",
    "    for i in L:\n",
    "        if i not in list1:\n",
    "            list1.append(i)\n",
    "    \n",
    "    return list1"
   ]
  },
  {
   "cell_type": "code",
   "execution_count": 47,
   "id": "ebc875fe",
   "metadata": {},
   "outputs": [
    {
     "data": {
      "text/plain": [
       "[1, 2, 54, 5, 4, 8, 7]"
      ]
     },
     "execution_count": 47,
     "metadata": {},
     "output_type": "execute_result"
    }
   ],
   "source": [
    "deldublicate([1,2,54,5,2,5,2,4,5,8,5,7,8,8,1,1])"
   ]
  },
  {
   "cell_type": "markdown",
   "id": "1561c6c1",
   "metadata": {},
   "source": [
    "7. Write a program to calculate the factorial of a given number."
   ]
  },
  {
   "cell_type": "code",
   "execution_count": 50,
   "id": "d2ebc56c",
   "metadata": {},
   "outputs": [],
   "source": [
    "def factorial(n):\n",
    "    if n==1:\n",
    "        return 1\n",
    "    return n*factorial(n-1)"
   ]
  },
  {
   "cell_type": "code",
   "execution_count": 51,
   "id": "1b6c2b37",
   "metadata": {},
   "outputs": [
    {
     "data": {
      "text/plain": [
       "120"
      ]
     },
     "execution_count": 51,
     "metadata": {},
     "output_type": "execute_result"
    }
   ],
   "source": [
    "factorial(5)"
   ]
  },
  {
   "cell_type": "markdown",
   "id": "9cb1b671",
   "metadata": {},
   "source": [
    "8. Implement a function to check if a given number is prime."
   ]
  },
  {
   "cell_type": "code",
   "execution_count": 81,
   "id": "cdf6a853",
   "metadata": {},
   "outputs": [],
   "source": [
    "def primenumber(n):\n",
    "    for i in range(2,int(n*0.5)+1):\n",
    "        if n%i==0 :\n",
    "            return False\n",
    "    return \"number is prime number\""
   ]
  },
  {
   "cell_type": "code",
   "execution_count": 83,
   "id": "76bd98c9",
   "metadata": {},
   "outputs": [
    {
     "data": {
      "text/plain": [
       "'number is prime number'"
      ]
     },
     "execution_count": 83,
     "metadata": {},
     "output_type": "execute_result"
    }
   ],
   "source": [
    "primenumber(13)"
   ]
  },
  {
   "cell_type": "markdown",
   "id": "1ae6b528",
   "metadata": {},
   "source": [
    "9. Write a Python program to sort a list of integers in ascending order."
   ]
  },
  {
   "cell_type": "code",
   "execution_count": 100,
   "id": "4048783f",
   "metadata": {},
   "outputs": [],
   "source": [
    "def sorting(L):\n",
    "    for i in range(len(L)):\n",
    "        for j in range(0,len(L)-i-1):\n",
    "            if L[j]>L[j+1]:\n",
    "                L[j],L[j+1]=L[j+1],L[j]\n",
    "    return L"
   ]
  },
  {
   "cell_type": "code",
   "execution_count": 101,
   "id": "0e30c0d7",
   "metadata": {},
   "outputs": [
    {
     "data": {
      "text/plain": [
       "[6, 18, 25, 25, 45, 54, 70]"
      ]
     },
     "execution_count": 101,
     "metadata": {},
     "output_type": "execute_result"
    }
   ],
   "source": [
    "sorting([70,54,25,6,45,18,25])"
   ]
  },
  {
   "cell_type": "markdown",
   "id": "ec055a15",
   "metadata": {},
   "source": [
    "10. Implement a function to find the sum of all numbers in a list."
   ]
  },
  {
   "cell_type": "code",
   "execution_count": 94,
   "id": "5f0a3932",
   "metadata": {},
   "outputs": [],
   "source": [
    "def summesion(L):\n",
    "    sum1=0\n",
    "    for i in L:\n",
    "        sum1+=i\n",
    "    return sum1"
   ]
  },
  {
   "cell_type": "code",
   "execution_count": 95,
   "id": "72fc13d4",
   "metadata": {},
   "outputs": [
    {
     "data": {
      "text/plain": [
       "243"
      ]
     },
     "execution_count": 95,
     "metadata": {},
     "output_type": "execute_result"
    }
   ],
   "source": [
    "summesion([70,54,25,6,45,18,25])"
   ]
  },
  {
   "cell_type": "markdown",
   "id": "d3f67774",
   "metadata": {},
   "source": [
    "11. Write a program to find the common elements between two lists."
   ]
  },
  {
   "cell_type": "code",
   "execution_count": 102,
   "id": "377acca5",
   "metadata": {},
   "outputs": [],
   "source": [
    "def commonele(L1,L2):\n",
    "    list1=[]\n",
    "    for i in  L1:\n",
    "        if i in L2:\n",
    "            list1.append(i)\n",
    "    return list1"
   ]
  },
  {
   "cell_type": "code",
   "execution_count": 105,
   "id": "de91f355",
   "metadata": {},
   "outputs": [
    {
     "data": {
      "text/plain": [
       "[4, 5]"
      ]
     },
     "execution_count": 105,
     "metadata": {},
     "output_type": "execute_result"
    }
   ],
   "source": [
    "commonele([1,2,4,5],[8,7,4,5])"
   ]
  },
  {
   "cell_type": "markdown",
   "id": "7fe8d9fb",
   "metadata": {},
   "source": [
    "12. Implement a function to check if a given string is an anagram of another string."
   ]
  },
  {
   "cell_type": "code",
   "execution_count": 106,
   "id": "43c27369",
   "metadata": {},
   "outputs": [],
   "source": [
    "def anagram(s1,s2):\n",
    "    if len(s1)!=len(s2):\n",
    "        return False\n",
    "    count=0\n",
    "    for i in s1:\n",
    "        if i in s2:\n",
    "            count+=1\n",
    "    if count==len(s1):\n",
    "        return True\n",
    "    else:\n",
    "        return False"
   ]
  },
  {
   "cell_type": "code",
   "execution_count": 110,
   "id": "e3c4576f",
   "metadata": {},
   "outputs": [
    {
     "data": {
      "text/plain": [
       "True"
      ]
     },
     "execution_count": 110,
     "metadata": {},
     "output_type": "execute_result"
    }
   ],
   "source": [
    "anagram(\"listen\",\"silent\")"
   ]
  },
  {
   "cell_type": "markdown",
   "id": "8ccc9c35",
   "metadata": {},
   "source": [
    "13. Write a Python program to generate all permutations of a given string."
   ]
  },
  {
   "cell_type": "code",
   "execution_count": 225,
   "id": "0b246986",
   "metadata": {},
   "outputs": [
    {
     "data": {
      "text/plain": [
       "['abc', 'acb', 'bac', 'bca', 'cab', 'cba']"
      ]
     },
     "execution_count": 225,
     "metadata": {},
     "output_type": "execute_result"
    }
   ],
   "source": [
    "from itertools import permutations\n",
    "\n",
    "def generate_permutations(string):\n",
    "    perms = [''.join(p) for p in permutations(string)]\n",
    "    return perms\n",
    "generate_permutations(\"abc\")"
   ]
  },
  {
   "cell_type": "markdown",
   "id": "85d03a4f",
   "metadata": {},
   "source": [
    "14. Implement a function to calculate the Fibonacci sequence up to a given number of terms."
   ]
  },
  {
   "cell_type": "code",
   "execution_count": 111,
   "id": "040ac3d1",
   "metadata": {},
   "outputs": [],
   "source": [
    "def fibo(n):\n",
    "    if n==1:\n",
    "        return 1\n",
    "    a=0\n",
    "    b=1\n",
    "    for i in range(2,n):\n",
    "        a,b=b,a+b\n",
    "        print(b)\n",
    "        "
   ]
  },
  {
   "cell_type": "code",
   "execution_count": 112,
   "id": "3a732b4e",
   "metadata": {},
   "outputs": [
    {
     "name": "stdout",
     "output_type": "stream",
     "text": [
      "1\n",
      "2\n",
      "3\n",
      "5\n",
      "8\n",
      "13\n",
      "21\n",
      "34\n"
     ]
    }
   ],
   "source": [
    "fibo(10)"
   ]
  },
  {
   "cell_type": "markdown",
   "id": "6185eb5b",
   "metadata": {},
   "source": [
    "15. Write a program to find the median of a list of numbers."
   ]
  },
  {
   "cell_type": "code",
   "execution_count": 136,
   "id": "d40cf55c",
   "metadata": {},
   "outputs": [],
   "source": [
    "def midian(L):\n",
    "    for i in range(len(L)):\n",
    "        min1=i\n",
    "        for j in range(i+1,len(L)):\n",
    "            if L[min1]>L[j]:\n",
    "                min1=j        \n",
    "        L[min1],L[i]=L[i],L[min1]\n",
    "    if len(L)%2==0:\n",
    "        return (L[len(L)//2-1]+L[len(L)//2])/2  \n",
    "    else:\n",
    "         return L[len(L)//2]"
   ]
  },
  {
   "cell_type": "code",
   "execution_count": 137,
   "id": "c7fb13f1",
   "metadata": {},
   "outputs": [
    {
     "data": {
      "text/plain": [
       "25"
      ]
     },
     "execution_count": 137,
     "metadata": {},
     "output_type": "execute_result"
    }
   ],
   "source": [
    "midian([6, 18, 25, 25, 45, 54, 70])"
   ]
  },
  {
   "cell_type": "markdown",
   "id": "73b1a15d",
   "metadata": {},
   "source": [
    "16. Implement a function to check if a given list is sorted in non-decreasing order."
   ]
  },
  {
   "cell_type": "code",
   "execution_count": 150,
   "id": "2bf4bda9",
   "metadata": {},
   "outputs": [],
   "source": [
    "def issorted(L):\n",
    "    for i in range(len(L)-1):\n",
    "        if L[i]>=L[i+1]:\n",
    "            continue\n",
    "        else:\n",
    "            return False\n",
    "    return True"
   ]
  },
  {
   "cell_type": "code",
   "execution_count": 151,
   "id": "c424bd18",
   "metadata": {},
   "outputs": [
    {
     "data": {
      "text/plain": [
       "True"
      ]
     },
     "execution_count": 151,
     "metadata": {},
     "output_type": "execute_result"
    }
   ],
   "source": [
    "issorted([8,7,6,5,3,2,1])"
   ]
  },
  {
   "cell_type": "markdown",
   "id": "d81839fb",
   "metadata": {},
   "source": [
    "17. Write a Python program to find the intersection of two lists."
   ]
  },
  {
   "cell_type": "code",
   "execution_count": 159,
   "id": "0f0ec8e9",
   "metadata": {},
   "outputs": [],
   "source": [
    "def intersection(L1,L2):\n",
    "    list1=[]\n",
    "    for i in L1:\n",
    "        if i in L2:\n",
    "            list1.append(i)\n",
    "    return list1"
   ]
  },
  {
   "cell_type": "code",
   "execution_count": 160,
   "id": "81d0a9cf",
   "metadata": {},
   "outputs": [
    {
     "data": {
      "text/plain": [
       "[2, 4]"
      ]
     },
     "execution_count": 160,
     "metadata": {},
     "output_type": "execute_result"
    }
   ],
   "source": [
    "intersection([1,2,3,4,5],[7,8,9,2,4])"
   ]
  },
  {
   "cell_type": "markdown",
   "id": "7bb6aaf8",
   "metadata": {},
   "source": [
    "18. Implement a function to find the maximum subarray sum in a given list."
   ]
  },
  {
   "cell_type": "code",
   "execution_count": 227,
   "id": "6422778f",
   "metadata": {},
   "outputs": [
    {
     "data": {
      "text/plain": [
       "36"
      ]
     },
     "execution_count": 227,
     "metadata": {},
     "output_type": "execute_result"
    }
   ],
   "source": [
    "def maximumsubarray(nums):\n",
    "    if not nums:\n",
    "        return 0\n",
    "    max_sum = float('-inf')\n",
    "    current_sum = 0\n",
    "\n",
    "    for num in nums:\n",
    "        current_sum = max(num, current_sum + num)\n",
    "        max_sum = max(max_sum, current_sum)\n",
    "\n",
    "    return max_sum\n",
    "maximumsubarray([1,2,3,4,5,6,8,7])"
   ]
  },
  {
   "cell_type": "markdown",
   "id": "b2924df7",
   "metadata": {},
   "source": [
    "19. Write a program to remove all vowels from a given string."
   ]
  },
  {
   "cell_type": "code",
   "execution_count": 168,
   "id": "b715ac31",
   "metadata": {},
   "outputs": [],
   "source": [
    "def removevowels(s):\n",
    "    vowals=\"aeiou\"\n",
    "    for i in s:\n",
    "        if i.lower() in vowals:\n",
    "            s=s.replace(i,\"\")\n",
    "    return s"
   ]
  },
  {
   "cell_type": "code",
   "execution_count": 170,
   "id": "2131d65e",
   "metadata": {},
   "outputs": [
    {
     "data": {
      "text/plain": [
       "'nrn'"
      ]
     },
     "execution_count": 170,
     "metadata": {},
     "output_type": "execute_result"
    }
   ],
   "source": [
    "removevowels(\"Inueron\")"
   ]
  },
  {
   "cell_type": "markdown",
   "id": "a55d7a96",
   "metadata": {},
   "source": [
    "20. Implement a function to reverse the order of words in a given sentence."
   ]
  },
  {
   "cell_type": "code",
   "execution_count": 173,
   "id": "543f82c9",
   "metadata": {},
   "outputs": [],
   "source": [
    "def reversesentence(s):\n",
    "    s1=s.split(\" \")\n",
    "    string=\"\"\n",
    "    for i in s1:\n",
    "        string=i+\" \"+string\n",
    "    return string"
   ]
  },
  {
   "cell_type": "code",
   "execution_count": 174,
   "id": "7d2b2a3b",
   "metadata": {},
   "outputs": [
    {
     "data": {
      "text/plain": [
       "'future is science data '"
      ]
     },
     "execution_count": 174,
     "metadata": {},
     "output_type": "execute_result"
    }
   ],
   "source": [
    "reversesentence(\"data science is future\")"
   ]
  },
  {
   "cell_type": "markdown",
   "id": "e8ff3fdd",
   "metadata": {},
   "source": [
    "21. Write a Python program to check if two strings are anagrams of each other."
   ]
  },
  {
   "cell_type": "code",
   "execution_count": 175,
   "id": "821614da",
   "metadata": {},
   "outputs": [
    {
     "data": {
      "text/plain": [
       "True"
      ]
     },
     "execution_count": 175,
     "metadata": {},
     "output_type": "execute_result"
    }
   ],
   "source": [
    "def anagram(s1,s2):\n",
    "    if len(s1)!=len(s2):\n",
    "        return False\n",
    "    count=0\n",
    "    for i in s1:\n",
    "        if i in s2:\n",
    "            count+=1\n",
    "    if count==len(s1):\n",
    "        return True\n",
    "    else:\n",
    "        return False\n",
    "anagram(\"listen\",\"slient\")"
   ]
  },
  {
   "cell_type": "markdown",
   "id": "8a5e5ff3",
   "metadata": {},
   "source": [
    "22. Implement a function to find the first non-repeating character in a string."
   ]
  },
  {
   "cell_type": "code",
   "execution_count": 183,
   "id": "dd7c717b",
   "metadata": {},
   "outputs": [],
   "source": [
    "def nonrepetingchr(s):\n",
    "    dict1={}\n",
    "    for i in s:\n",
    "        if i in dict1:\n",
    "            dict1[i]+=1\n",
    "        else:\n",
    "            dict1[i]=1\n",
    "    for j in s:\n",
    "        if dict1[j]==1:\n",
    "            return j\n",
    "    "
   ]
  },
  {
   "cell_type": "code",
   "execution_count": 184,
   "id": "a12af358",
   "metadata": {},
   "outputs": [
    {
     "data": {
      "text/plain": [
       "'l'"
      ]
     },
     "execution_count": 184,
     "metadata": {},
     "output_type": "execute_result"
    }
   ],
   "source": [
    "nonrepetingchr(\"theblackboxfoxjumpintotherever\")"
   ]
  },
  {
   "cell_type": "markdown",
   "id": "cfa30bec",
   "metadata": {},
   "source": [
    "23. Write a program to find the prime factors of a given number."
   ]
  },
  {
   "cell_type": "code",
   "execution_count": 228,
   "id": "493f2fd3",
   "metadata": {},
   "outputs": [
    {
     "data": {
      "text/plain": [
       "[2, 2, 3, 3]"
      ]
     },
     "execution_count": 228,
     "metadata": {},
     "output_type": "execute_result"
    }
   ],
   "source": [
    "def primefactors(number):\n",
    "    factors = []\n",
    "    divisor = 2\n",
    "    \n",
    "    while divisor <= number:\n",
    "        if number % divisor == 0:\n",
    "            factors.append(divisor)\n",
    "            number = number / divisor\n",
    "        else:\n",
    "            divisor += 1\n",
    "    \n",
    "    return factors\n",
    "primefactors(36)"
   ]
  },
  {
   "cell_type": "markdown",
   "id": "f6544c0d",
   "metadata": {},
   "source": [
    "24. Implement a function to check if a given number is a power of two."
   ]
  },
  {
   "cell_type": "code",
   "execution_count": 189,
   "id": "815cd1a3",
   "metadata": {},
   "outputs": [],
   "source": [
    "def ispowerof2(n):\n",
    "    for i in range(n):\n",
    "        if 2**i==n:\n",
    "            return True\n",
    "        else:\n",
    "            return False"
   ]
  },
  {
   "cell_type": "code",
   "execution_count": 190,
   "id": "e9ed6007",
   "metadata": {},
   "outputs": [
    {
     "data": {
      "text/plain": [
       "False"
      ]
     },
     "execution_count": 190,
     "metadata": {},
     "output_type": "execute_result"
    }
   ],
   "source": [
    "ispowerof2(12)"
   ]
  },
  {
   "cell_type": "markdown",
   "id": "e2d81edc",
   "metadata": {},
   "source": [
    "25. Write a Python program to merge two sorted lists into a single sorted list."
   ]
  },
  {
   "cell_type": "code",
   "execution_count": 229,
   "id": "0c092ec2",
   "metadata": {},
   "outputs": [
    {
     "data": {
      "text/plain": [
       "[1, 2, 3, 4, 5, 6, 7, 8, 9, 10]"
      ]
     },
     "execution_count": 229,
     "metadata": {},
     "output_type": "execute_result"
    }
   ],
   "source": [
    "def mergesorted(list1, list2):\n",
    "    merged_list = []\n",
    "    i, j = 0, 0\n",
    "    while i < len(list1) and j < len(list2):\n",
    "        if list1[i] <= list2[j]:\n",
    "            merged_list.append(list1[i])\n",
    "            i += 1\n",
    "        else:\n",
    "            merged_list.append(list2[j])\n",
    "            j += 1\n",
    "    while i < len(list1):\n",
    "        merged_list.append(list1[i])\n",
    "        i += 1\n",
    "    while j < len(list2):\n",
    "        merged_list.append(list2[j])\n",
    "        j += 1    \n",
    "    return merged_list\n",
    "mergesorted([1, 3, 5, 7, 9],[2, 4, 6, 8, 10])"
   ]
  },
  {
   "cell_type": "markdown",
   "id": "c466534f",
   "metadata": {},
   "source": [
    "26. Implement a function to find the mode of a list of numbers."
   ]
  },
  {
   "cell_type": "code",
   "execution_count": 199,
   "id": "05a193f5",
   "metadata": {},
   "outputs": [],
   "source": [
    "def modeoflist(L):\n",
    "    l1=0\n",
    "    for i in L:\n",
    "        if L.count(i)>l1:\n",
    "            l1=L.count(i)\n",
    "            m=l1\n",
    "    for j in L:\n",
    "        if L.count(j)==m:\n",
    "            return j\n",
    "    "
   ]
  },
  {
   "cell_type": "code",
   "execution_count": 200,
   "id": "49607b9b",
   "metadata": {},
   "outputs": [
    {
     "data": {
      "text/plain": [
       "5"
      ]
     },
     "execution_count": 200,
     "metadata": {},
     "output_type": "execute_result"
    }
   ],
   "source": [
    "modeoflist([1,2,5,4,5,1,2,5,4,2,1,4,5])"
   ]
  },
  {
   "cell_type": "markdown",
   "id": "0e7c73c6",
   "metadata": {},
   "source": [
    "27. Write a program to find the greatest common divisor (GCD) of two numbers."
   ]
  },
  {
   "cell_type": "code",
   "execution_count": 230,
   "id": "1ad4e7b9",
   "metadata": {},
   "outputs": [
    {
     "data": {
      "text/plain": [
       "18"
      ]
     },
     "execution_count": 230,
     "metadata": {},
     "output_type": "execute_result"
    }
   ],
   "source": [
    "def gcd(a, b):\n",
    "    while b != 0:\n",
    "        a, b = b, a % b\n",
    "    return a\n",
    "gcd(36,54)"
   ]
  },
  {
   "cell_type": "markdown",
   "id": "83cc3899",
   "metadata": {},
   "source": [
    "28. Implement a function to calculate the square root of a given number."
   ]
  },
  {
   "cell_type": "code",
   "execution_count": 231,
   "id": "9d21c918",
   "metadata": {},
   "outputs": [
    {
     "data": {
      "text/plain": [
       "8.0"
      ]
     },
     "execution_count": 231,
     "metadata": {},
     "output_type": "execute_result"
    }
   ],
   "source": [
    "def squreroot(n):\n",
    "    return n**0.5\n",
    "squreroot(64)"
   ]
  },
  {
   "cell_type": "markdown",
   "id": "91fd423c",
   "metadata": {},
   "source": [
    "29. Write a Python program to check if a given string is a valid palindrome ignoring non-alphanumeric characters."
   ]
  },
  {
   "cell_type": "code",
   "execution_count": 249,
   "id": "c590983f",
   "metadata": {},
   "outputs": [
    {
     "data": {
      "text/plain": [
       "True"
      ]
     },
     "execution_count": 249,
     "metadata": {},
     "output_type": "execute_result"
    }
   ],
   "source": [
    "def isdpalindrome(s):\n",
    "    s = ''.join(ch.lower() for ch in s if ch.isalnum())\n",
    "    return s == s[::-1]\n",
    "isdpalindrome(\"abcbcba\")"
   ]
  },
  {
   "cell_type": "markdown",
   "id": "8ca2b830",
   "metadata": {},
   "source": [
    "30. Implement a function to find the minimum element in a rotated sorted list."
   ]
  },
  {
   "cell_type": "code",
   "execution_count": 234,
   "id": "15c2e5a3",
   "metadata": {},
   "outputs": [
    {
     "data": {
      "text/plain": [
       "0"
      ]
     },
     "execution_count": 234,
     "metadata": {},
     "output_type": "execute_result"
    }
   ],
   "source": [
    "def minimumelement(rotated_list):\n",
    "    left = 0\n",
    "    right = len(rotated_list) - 1\n",
    "\n",
    "    while left < right:\n",
    "        mid = left + (right - left) // 2\n",
    "        if rotated_list[mid] > rotated_list[right]:\n",
    "            left = mid + 1\n",
    "        else:\n",
    "            right = mid\n",
    "\n",
    "    return rotated_list[left]\n",
    "minimumelement([4,5,6,7,0,1,2])"
   ]
  },
  {
   "cell_type": "markdown",
   "id": "245b1540",
   "metadata": {},
   "source": [
    "31. Write a program to find the sum of all even numbers in a list."
   ]
  },
  {
   "cell_type": "code",
   "execution_count": 202,
   "id": "73afe1c4",
   "metadata": {},
   "outputs": [
    {
     "data": {
      "text/plain": [
       "18"
      ]
     },
     "execution_count": 202,
     "metadata": {},
     "output_type": "execute_result"
    }
   ],
   "source": [
    "def evensum(l):\n",
    "    s=0\n",
    "    for i in l:\n",
    "        if i%2==0:\n",
    "            s=s+i\n",
    "    return s\n",
    "\n",
    "evensum([1,2,4,5,8,7,9,3,4])"
   ]
  },
  {
   "cell_type": "markdown",
   "id": "eadd13bb",
   "metadata": {},
   "source": [
    "32. Implement a function to calculate the power of a number using recursion"
   ]
  },
  {
   "cell_type": "code",
   "execution_count": 246,
   "id": "4232bfc2",
   "metadata": {},
   "outputs": [
    {
     "data": {
      "text/plain": [
       "248832"
      ]
     },
     "execution_count": 246,
     "metadata": {},
     "output_type": "execute_result"
    }
   ],
   "source": [
    "def power(b, e):\n",
    "    if e == 0:\n",
    "        return 1\n",
    "    elif e < 0:\n",
    "        return 1 / power(b, -e)\n",
    "    else:\n",
    "        return b * power(b, e - 1)\n",
    "power(12,5)"
   ]
  },
  {
   "cell_type": "markdown",
   "id": "b4e48baa",
   "metadata": {},
   "source": [
    "33. Write a Python program to remove duplicates from a list while preserving the order."
   ]
  },
  {
   "cell_type": "code",
   "execution_count": 235,
   "id": "60943dd3",
   "metadata": {},
   "outputs": [
    {
     "data": {
      "text/plain": [
       "[1, 2, 5]"
      ]
     },
     "execution_count": 235,
     "metadata": {},
     "output_type": "execute_result"
    }
   ],
   "source": [
    "def removedublicate(l):\n",
    "    seen = set()\n",
    "    result = []\n",
    "\n",
    "    for item in l:\n",
    "        if item not in seen:\n",
    "            seen.add(item)\n",
    "            result.append(item)\n",
    "\n",
    "    return result\n",
    "\n",
    "removedublicate([1,1,1,2,5,1,2,5,1,2,5])"
   ]
  },
  {
   "cell_type": "markdown",
   "id": "55d9fd56",
   "metadata": {},
   "source": [
    "34. Implement a function to find the longest common prefix among a list of strings."
   ]
  },
  {
   "cell_type": "code",
   "execution_count": 237,
   "id": "0bb39a04",
   "metadata": {},
   "outputs": [
    {
     "data": {
      "text/plain": [
       "'ab'"
      ]
     },
     "execution_count": 237,
     "metadata": {},
     "output_type": "execute_result"
    }
   ],
   "source": [
    "def commonprefix(strs):\n",
    "    if not strs:\n",
    "        return \"\"\n",
    "    min_length = min(len(s) for s in strs)\n",
    "    prefix = \"\"\n",
    "    for i in range(min_length):\n",
    "        char = strs[0][i]\n",
    "        for j in range(1, len(strs)):\n",
    "            if strs[j][i] != char:\n",
    "                return prefix\n",
    "        prefix += char\n",
    "    return prefix\n",
    "commonprefix([\"abc\",\"abx\",\"abv\"])"
   ]
  },
  {
   "cell_type": "markdown",
   "id": "ad5937ce",
   "metadata": {},
   "source": [
    "35. Write a program to check if a given number is a perfect square.\n"
   ]
  },
  {
   "cell_type": "code",
   "execution_count": 217,
   "id": "c8465de2",
   "metadata": {},
   "outputs": [
    {
     "data": {
      "text/plain": [
       "False"
      ]
     },
     "execution_count": 217,
     "metadata": {},
     "output_type": "execute_result"
    }
   ],
   "source": [
    "def perfectsqure(n):\n",
    "    for i in range(n):\n",
    "        if i*i==n:\n",
    "            return True\n",
    "    return False\n",
    "perfectsqure(35)"
   ]
  },
  {
   "cell_type": "markdown",
   "id": "248363a7",
   "metadata": {},
   "source": [
    "36. Implement a function to calculate the product of all elements in a list."
   ]
  },
  {
   "cell_type": "code",
   "execution_count": 211,
   "id": "621773e1",
   "metadata": {},
   "outputs": [
    {
     "data": {
      "text/plain": [
       "720"
      ]
     },
     "execution_count": 211,
     "metadata": {},
     "output_type": "execute_result"
    }
   ],
   "source": [
    "def product(l):\n",
    "    p=1\n",
    "    for i in l:\n",
    "        p=p*i\n",
    "    return p\n",
    "product([1,2,3,4,5,6])"
   ]
  },
  {
   "cell_type": "markdown",
   "id": "42ff2b56",
   "metadata": {},
   "source": [
    "37. Write a Python program to reverse the order of words in a sentence while preserving the word order."
   ]
  },
  {
   "cell_type": "code",
   "execution_count": 238,
   "id": "95f3e3da",
   "metadata": {},
   "outputs": [
    {
     "data": {
      "text/plain": [
       "'best the is Inueron'"
      ]
     },
     "execution_count": 238,
     "metadata": {},
     "output_type": "execute_result"
    }
   ],
   "source": [
    "def reversesentence(sentence):\n",
    "    words = sentence.split()\n",
    "    reversed_words = words[::-1]\n",
    "    reversed_sentence = \" \".join(reversed_words)\n",
    "    return reversed_sentence\n",
    "reversesentence(\"Inueron is the best\")"
   ]
  },
  {
   "cell_type": "markdown",
   "id": "41dc65ac",
   "metadata": {},
   "source": [
    "38. Implement a function to find the missing number in a given list of consecutive numbers.\n"
   ]
  },
  {
   "cell_type": "code",
   "execution_count": 219,
   "id": "6b84fb46",
   "metadata": {},
   "outputs": [
    {
     "data": {
      "text/plain": [
       "4"
      ]
     },
     "execution_count": 219,
     "metadata": {},
     "output_type": "execute_result"
    }
   ],
   "source": [
    "def missingnum(l):\n",
    "    for i in range(len(l)-1):\n",
    "        if l[i]+1==l[i+1]:\n",
    "            continue\n",
    "        else:\n",
    "            return l[i]+1\n",
    "missingnum([1,2,3,5,6,7,8,9])            "
   ]
  },
  {
   "cell_type": "markdown",
   "id": "5ab67c30",
   "metadata": {},
   "source": [
    "\n",
    "39. Write a program to find the sum of digits of a given number.\n"
   ]
  },
  {
   "cell_type": "code",
   "execution_count": 220,
   "id": "271f1eb7",
   "metadata": {},
   "outputs": [
    {
     "data": {
      "text/plain": [
       "15"
      ]
     },
     "execution_count": 220,
     "metadata": {},
     "output_type": "execute_result"
    }
   ],
   "source": [
    "def sumofnumber(n):\n",
    "    s=0\n",
    "    for i in str(n):\n",
    "        s=s+int(i)\n",
    "    return s\n",
    "sumofnumber(456)"
   ]
  },
  {
   "cell_type": "markdown",
   "id": "0c7f59b2",
   "metadata": {},
   "source": [
    "40. Implement a function to check if a given string is a valid palindrome considering case sensitivity.\n"
   ]
  },
  {
   "cell_type": "code",
   "execution_count": 221,
   "id": "eef32453",
   "metadata": {},
   "outputs": [
    {
     "data": {
      "text/plain": [
       "True"
      ]
     },
     "execution_count": 221,
     "metadata": {},
     "output_type": "execute_result"
    }
   ],
   "source": [
    "def ispalindrom(s):\n",
    "    lower=s.lower()\n",
    "    if lower==lower[::-1]:\n",
    "        return True\n",
    "    else:\n",
    "        False\n",
    "ispalindrom(\"mADAm\")"
   ]
  },
  {
   "cell_type": "markdown",
   "id": "de951fa8",
   "metadata": {},
   "source": [
    "41. Write a Python program to find the smallest missing positive integer in a list.\n"
   ]
  },
  {
   "cell_type": "code",
   "execution_count": 239,
   "id": "7178bade",
   "metadata": {},
   "outputs": [
    {
     "data": {
      "text/plain": [
       "1"
      ]
     },
     "execution_count": 239,
     "metadata": {},
     "output_type": "execute_result"
    }
   ],
   "source": [
    "def missingpositive(nums):\n",
    "    n = len(nums)\n",
    "    j = 0\n",
    "    for i in range(n):\n",
    "        if nums[i] > 0:\n",
    "            nums[i], nums[j] = nums[j], nums[i]\n",
    "            j += 1\n",
    "    for i in range(j):\n",
    "        num = abs(nums[i])\n",
    "        if num <= j:\n",
    "            nums[num - 1] = -abs(nums[num - 1])\n",
    "    for i in range(j):\n",
    "        if nums[i] > 0:\n",
    "            return i + 1\n",
    "    return j + 1\n",
    "missingpositive([3,4,25,4])"
   ]
  },
  {
   "cell_type": "markdown",
   "id": "9d73d003",
   "metadata": {},
   "source": [
    "42. Implement a function to find the longest palindrome substring in a given string.\n"
   ]
  },
  {
   "cell_type": "code",
   "execution_count": 240,
   "id": "966e10da",
   "metadata": {},
   "outputs": [
    {
     "data": {
      "text/plain": [
       "'madam'"
      ]
     },
     "execution_count": 240,
     "metadata": {},
     "output_type": "execute_result"
    }
   ],
   "source": [
    "def palindrome(s):\n",
    "    if len(s) < 2:\n",
    "        return s\n",
    "    start = 0\n",
    "    end = 0\n",
    "    for i in range(len(s)):\n",
    "        len1 = aroundcenter(s, i, i)  \n",
    "        len2 = aroundcenter(s, i, i + 1)  \n",
    "        max_len = max(len1, len2)\n",
    "        if max_len > end - start:\n",
    "            start = i - (max_len - 1) // 2\n",
    "            end = i + max_len // 2\n",
    "    return s[start:end + 1]\n",
    "def aroundcenter(s, left, right):\n",
    "    while left >= 0 and right < len(s) and s[left] == s[right]:\n",
    "        left -= 1\n",
    "        right += 1\n",
    "    return right - left - 1\n",
    "palindrome(\"madam\")"
   ]
  },
  {
   "cell_type": "markdown",
   "id": "b0d67d31",
   "metadata": {},
   "source": [
    "43. Write a program to find the number of occurrences of a given element in a list.\n"
   ]
  },
  {
   "cell_type": "code",
   "execution_count": 222,
   "id": "36ab9636",
   "metadata": {},
   "outputs": [
    {
     "data": {
      "text/plain": [
       "9"
      ]
     },
     "execution_count": 222,
     "metadata": {},
     "output_type": "execute_result"
    }
   ],
   "source": [
    "def numberofoccurance(l,n):\n",
    "    count=0\n",
    "    for i in l:\n",
    "        if i==n:\n",
    "            count+=1\n",
    "    return count\n",
    "\n",
    "numberofoccurance([1,2,1,2,1,1,5,4,1,5,1,5,3,1,5,4,4,1,2,1],1)"
   ]
  },
  {
   "cell_type": "markdown",
   "id": "2c38629d",
   "metadata": {},
   "source": [
    "44. Implement a function to check if a given number is a perfect number.\n"
   ]
  },
  {
   "cell_type": "code",
   "execution_count": 242,
   "id": "7da2a87a",
   "metadata": {},
   "outputs": [
    {
     "data": {
      "text/plain": [
       "False"
      ]
     },
     "execution_count": 242,
     "metadata": {},
     "output_type": "execute_result"
    }
   ],
   "source": [
    "def isperfectnumber(num):\n",
    "    if num <= 0:\n",
    "        return False\n",
    "    divisorsum = 0\n",
    "    for i in range(1, num):\n",
    "        if num % i == 0:\n",
    "            divisorsum += i\n",
    "    return divisorsum == num\n",
    "isperfectnumber(25)"
   ]
  },
  {
   "cell_type": "markdown",
   "id": "6dc9b67a",
   "metadata": {},
   "source": [
    "45. Write a Python program to remove all duplicates from a string.\n"
   ]
  },
  {
   "cell_type": "code",
   "execution_count": 224,
   "id": "d1caaa59",
   "metadata": {},
   "outputs": [
    {
     "data": {
      "text/plain": [
       "''"
      ]
     },
     "execution_count": 224,
     "metadata": {},
     "output_type": "execute_result"
    }
   ],
   "source": [
    "def removed(s):\n",
    "    for i in s:\n",
    "        if s.count(i)>1:\n",
    "            s=s.replace(i,\"\")\n",
    "    return s\n",
    "removed(\"cccaaayyyhhh\")"
   ]
  },
  {
   "cell_type": "markdown",
   "id": "a9793415",
   "metadata": {},
   "source": [
    "46. Implement a function to find the first missing positive"
   ]
  },
  {
   "cell_type": "code",
   "execution_count": 244,
   "id": "a5011b86",
   "metadata": {},
   "outputs": [
    {
     "data": {
      "text/plain": [
       "2"
      ]
     },
     "execution_count": 244,
     "metadata": {},
     "output_type": "execute_result"
    }
   ],
   "source": [
    "def missingpositive(nums):\n",
    "    n = len(nums)\n",
    "    j = 0\n",
    "    for i in range(n):\n",
    "        if nums[i] > 0:\n",
    "            nums[i], nums[j] = nums[j], nums[i]\n",
    "            j += 1\n",
    "    for i in range(j):\n",
    "        num = abs(nums[i])\n",
    "        if num <= j:\n",
    "            nums[num - 1] = -abs(nums[num - 1])\n",
    "    for i in range(j):\n",
    "        if nums[i] > 0:\n",
    "            return i + 1\n",
    "    return j + 1\n",
    "missingpositive([1,5,4,-1])"
   ]
  },
  {
   "cell_type": "code",
   "execution_count": null,
   "id": "555a6c89",
   "metadata": {},
   "outputs": [],
   "source": []
  }
 ],
 "metadata": {
  "kernelspec": {
   "display_name": "Python 3 (ipykernel)",
   "language": "python",
   "name": "python3"
  },
  "language_info": {
   "codemirror_mode": {
    "name": "ipython",
    "version": 3
   },
   "file_extension": ".py",
   "mimetype": "text/x-python",
   "name": "python",
   "nbconvert_exporter": "python",
   "pygments_lexer": "ipython3",
   "version": "3.9.12"
  }
 },
 "nbformat": 4,
 "nbformat_minor": 5
}
