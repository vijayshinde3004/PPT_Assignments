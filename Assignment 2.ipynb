{
 "cells": [
  {
   "cell_type": "markdown",
   "id": "e21bd53d",
   "metadata": {},
   "source": [
    "## Assignment 2"
   ]
  },
  {
   "cell_type": "markdown",
   "id": "114f0a42",
   "metadata": {},
   "source": [
    "<aside>\n",
    "💡 **Question 1**\n",
    "Given an integer array nums of 2n integers, group these integers into n pairs (a1, b1), (a2, b2),..., (an, bn) such that the sum of min(ai, bi) for all i is maximized. Return the maximized sum.\n",
    "\n",
    "**Example 1:**\n",
    "Input: nums = [1,4,3,2]\n",
    "Output: 4\n",
    "\n",
    "**Explanation:** All possible pairings (ignoring the ordering of elements) are:\n",
    "\n",
    "1. (1, 4), (2, 3) -> min(1, 4) + min(2, 3) = 1 + 2 = 3\n",
    "2. (1, 3), (2, 4) -> min(1, 3) + min(2, 4) = 1 + 2 = 3\n",
    "3. (1, 2), (3, 4) -> min(1, 2) + min(3, 4) = 1 + 3 = 4\n",
    "So the maximum possible sum is 4\n",
    "</aside>"
   ]
  },
  {
   "cell_type": "code",
   "execution_count": 1,
   "id": "918eab2c",
   "metadata": {},
   "outputs": [],
   "source": [
    "def array_pair_sum(nums):\n",
    "    nums.sort()\n",
    "    max_sum = 0\n",
    "    for i in range(0, len(nums), 2):\n",
    "        max_sum += nums[i]\n",
    "    return max_sum\n"
   ]
  },
  {
   "cell_type": "code",
   "execution_count": 3,
   "id": "89bb988c",
   "metadata": {},
   "outputs": [
    {
     "data": {
      "text/plain": [
       "4"
      ]
     },
     "execution_count": 3,
     "metadata": {},
     "output_type": "execute_result"
    }
   ],
   "source": [
    "array_pair_sum([1,4,3,2])"
   ]
  },
  {
   "cell_type": "markdown",
   "id": "1d6536e2",
   "metadata": {},
   "source": [
    "Question 2\n",
    "Alice has n candies, where the ith candy is of type candyType[i]. Alice noticed that she started to gain weight, so she visited a doctor. \n",
    "\n",
    "The doctor advised Alice to only eat n / 2 of the candies she has (n is always even). Alice likes her candies very much, and she wants to eat the maximum number of different types of candies while still following the doctor's advice. \n",
    "\n",
    "Given the integer array candyType of length n, return the maximum number of different types of candies she can eat if she only eats n / 2 of them.\n",
    "Example 1:\n",
    "Input: candyType = [1,1,2,2,3,3]\n",
    "Output: 3\n",
    "\n",
    "Explanation: Alice can only eat 6 / 2 = 3 candies. Since there are only 3 types, she can eat one of each type."
   ]
  },
  {
   "cell_type": "code",
   "execution_count": 5,
   "id": "a33d18c9",
   "metadata": {},
   "outputs": [],
   "source": [
    "def max_candies(candyType):\n",
    "    max_unique_candies = min(len(candyType) // 2, len(set(candyType)))\n",
    "    return max_unique_candies\n"
   ]
  },
  {
   "cell_type": "code",
   "execution_count": 6,
   "id": "f930a669",
   "metadata": {},
   "outputs": [
    {
     "data": {
      "text/plain": [
       "3"
      ]
     },
     "execution_count": 6,
     "metadata": {},
     "output_type": "execute_result"
    }
   ],
   "source": [
    "max_candies([1, 1, 2, 2, 3, 3])"
   ]
  },
  {
   "cell_type": "markdown",
   "id": "2940cbbc",
   "metadata": {},
   "source": [
    "Question 3\n",
    "We define a harmonious array as an array where the difference between its maximum value\n",
    "and its minimum value is exactly 1.\n",
    "\n",
    "Given an integer array nums, return the length of its longest harmonious subsequence\n",
    "among all its possible subsequences.\n",
    "\n",
    "A subsequence of an array is a sequence that can be derived from the array by deleting some or no elements without changing the order of the remaining elements.\n",
    "\n",
    "Example 1:\n",
    "Input: nums = [1,3,2,2,5,2,3,7]\n",
    "Output: 5\n",
    "\n",
    "Explanation: The longest harmonious subsequence is [3,2,2,2,3]."
   ]
  },
  {
   "cell_type": "code",
   "execution_count": 7,
   "id": "57e2cd17",
   "metadata": {},
   "outputs": [],
   "source": [
    "from collections import Counter\n",
    "\n",
    "def findLHS(nums):\n",
    "    counter = Counter(nums)\n",
    "    max_length = 0\n",
    "    for num in nums:\n",
    "        if num + 1 in counter:\n",
    "            length = counter[num] + counter[num + 1]\n",
    "            max_length = max(max_length, length)\n",
    "    return max_length\n"
   ]
  },
  {
   "cell_type": "code",
   "execution_count": 8,
   "id": "031a1c26",
   "metadata": {},
   "outputs": [
    {
     "data": {
      "text/plain": [
       "5"
      ]
     },
     "execution_count": 8,
     "metadata": {},
     "output_type": "execute_result"
    }
   ],
   "source": [
    "findLHS( [1,3,2,2,5,2,3,7])"
   ]
  },
  {
   "cell_type": "markdown",
   "id": "477ffb54",
   "metadata": {},
   "source": [
    "Question 4\n",
    "You have a long flowerbed in which some of the plots are planted, and some are not.\n",
    "However, flowers cannot be planted in adjacent plots.\n",
    "Given an integer array flowerbed containing 0's and 1's, where 0 means empty and 1 means not empty, and an integer n, return true if n new flowers can be planted in the flowerbed without violating the no-adjacent-flowers rule and false otherwise.\n",
    "\n",
    "Example 1:\n",
    "Input: flowerbed = [1,0,0,0,1], n = 1\n",
    "Output: true"
   ]
  },
  {
   "cell_type": "code",
   "execution_count": 9,
   "id": "b33a11cc",
   "metadata": {},
   "outputs": [],
   "source": [
    "def canPlaceFlowers(flowerbed, n):\n",
    "    count = 0\n",
    "    for i in range(len(flowerbed)):\n",
    "        if flowerbed[i] == 0 and (i == 0 or flowerbed[i - 1] == 0) and (i == len(flowerbed) - 1 or flowerbed[i + 1] == 0):\n",
    "            flowerbed[i] = 1\n",
    "            count += 1\n",
    "            if count == n:\n",
    "                return True\n",
    "    return count == n\n"
   ]
  },
  {
   "cell_type": "code",
   "execution_count": 10,
   "id": "0bfc60b6",
   "metadata": {},
   "outputs": [
    {
     "data": {
      "text/plain": [
       "True"
      ]
     },
     "execution_count": 10,
     "metadata": {},
     "output_type": "execute_result"
    }
   ],
   "source": [
    "canPlaceFlowers([1,0,0,0,1],1)"
   ]
  },
  {
   "cell_type": "markdown",
   "id": "9b7eb88b",
   "metadata": {},
   "source": [
    "Question 5\n",
    "Given an integer array nums, find three numbers whose product is maximum and return the maximum product.\n",
    "\n",
    "Example 1:\n",
    "Input: nums = [1,2,3]\n",
    "Output: 6"
   ]
  },
  {
   "cell_type": "code",
   "execution_count": 12,
   "id": "8b3847e1",
   "metadata": {},
   "outputs": [],
   "source": [
    "def maximumProduct(nums):\n",
    "    nums.sort()\n",
    "    return max(nums[-1] * nums[-2] * nums[-3], nums[0] * nums[1] * nums[-1])\n"
   ]
  },
  {
   "cell_type": "code",
   "execution_count": 13,
   "id": "a9b39dc7",
   "metadata": {},
   "outputs": [
    {
     "data": {
      "text/plain": [
       "6"
      ]
     },
     "execution_count": 13,
     "metadata": {},
     "output_type": "execute_result"
    }
   ],
   "source": [
    "maximumProduct([1,2,3])"
   ]
  },
  {
   "cell_type": "markdown",
   "id": "e636a09d",
   "metadata": {},
   "source": [
    "Question 6\n",
    "Given an array of integers nums which is sorted in ascending order, and an integer target,\n",
    "write a function to search target in nums. If target exists, then return its index. Otherwise,\n",
    "return -1.\n",
    "\n",
    "You must write an algorithm with O(log n) runtime complexity.\n",
    "\n",
    "Input: nums = [-1,0,3,5,9,12], target = 9\n",
    "Output: 4\n",
    "\n",
    "Explanation: 9 exists in nums and its index is 4"
   ]
  },
  {
   "cell_type": "code",
   "execution_count": 14,
   "id": "46c3523f",
   "metadata": {},
   "outputs": [],
   "source": [
    "def search(nums, target):\n",
    "    left, right = 0, len(nums) - 1\n",
    "    while left <= right:\n",
    "        mid = (left + right) // 2\n",
    "        if nums[mid] == target:\n",
    "            return mid\n",
    "        elif nums[mid] < target:\n",
    "            left = mid + 1\n",
    "        else:\n",
    "            right = mid - 1\n",
    "    return -1\n"
   ]
  },
  {
   "cell_type": "code",
   "execution_count": 15,
   "id": "99c24630",
   "metadata": {},
   "outputs": [
    {
     "data": {
      "text/plain": [
       "4"
      ]
     },
     "execution_count": 15,
     "metadata": {},
     "output_type": "execute_result"
    }
   ],
   "source": [
    "search([-1,0,3,5,9,12],9)"
   ]
  },
  {
   "cell_type": "markdown",
   "id": "3e1054b0",
   "metadata": {},
   "source": [
    "Question 7\n",
    "An array is monotonic if it is either monotone increasing or monotone decreasing.\n",
    "\n",
    "An array nums is monotone increasing if for all i <= j, nums[i] <= nums[j]. An array nums is\n",
    "monotone decreasing if for all i <= j, nums[i] >= nums[j].\n",
    "\n",
    "Given an integer array nums, return true if the given array is monotonic, or false otherwise.\n",
    "\n",
    "Example 1:\n",
    "Input: nums = [1,2,2,3]\n",
    "Output: true"
   ]
  },
  {
   "cell_type": "code",
   "execution_count": 16,
   "id": "5c5b79fd",
   "metadata": {},
   "outputs": [],
   "source": [
    "def isMonotonic(nums):\n",
    "    increasing = decreasing = True\n",
    "    for i in range(1, len(nums)):\n",
    "        if nums[i] > nums[i - 1]:\n",
    "            decreasing = False\n",
    "        elif nums[i] < nums[i - 1]:\n",
    "            increasing = False\n",
    "        if not increasing and not decreasing:\n",
    "            return False\n",
    "    return True\n"
   ]
  },
  {
   "cell_type": "code",
   "execution_count": 17,
   "id": "eb3fcd16",
   "metadata": {},
   "outputs": [
    {
     "data": {
      "text/plain": [
       "True"
      ]
     },
     "execution_count": 17,
     "metadata": {},
     "output_type": "execute_result"
    }
   ],
   "source": [
    "isMonotonic([1,2,2,3])"
   ]
  },
  {
   "cell_type": "code",
   "execution_count": null,
   "id": "e41da98c",
   "metadata": {},
   "outputs": [],
   "source": [
    "Question 8\n",
    "You are given an integer array nums and an integer k.\n",
    "\n",
    "In one operation, you can choose any index i where 0 <= i < nums.length and change nums[i] to nums[i] + x where x is an integer from the range [-k, k]. You can apply this operation at most once for each index i.\n",
    "\n",
    "The score of nums is the difference between the maximum and minimum elements in nums.\n",
    "\n",
    "Return the minimum score of nums after applying the mentioned operation at most once for each index in it.\n",
    "\n",
    "Example 1:\n",
    "Input: nums = [1], k = 0\n",
    "Output: 0\n",
    "\n",
    "Explanation: The score is max(nums) - min(nums) = 1 - 1 = 0."
   ]
  },
  {
   "cell_type": "code",
   "execution_count": 21,
   "id": "54c6ad6c",
   "metadata": {},
   "outputs": [],
   "source": [
    "def minimumScore(nums, k):\n",
    "    minimum = min(nums)\n",
    "    maximum = max(nums)\n",
    "    initial_score = maximum - minimum\n",
    "\n",
    "    if initial_score == 0:\n",
    "        return 0\n",
    "\n",
    "    min_score = float('inf')\n",
    "    max_score = float('-inf')\n",
    "\n",
    "    for num in nums:\n",
    "        min_score = min(min_score, num - k - minimum)\n",
    "        max_score = max(max_score, num + k - minimum)\n",
    "\n",
    "    return min(initial_score, min_score, max_score)\n"
   ]
  },
  {
   "cell_type": "code",
   "execution_count": 20,
   "id": "944088ca",
   "metadata": {},
   "outputs": [
    {
     "data": {
      "text/plain": [
       "0"
      ]
     },
     "execution_count": 20,
     "metadata": {},
     "output_type": "execute_result"
    }
   ],
   "source": [
    "minimumScore([1],0)"
   ]
  },
  {
   "cell_type": "code",
   "execution_count": null,
   "id": "194a60fa",
   "metadata": {},
   "outputs": [],
   "source": []
  }
 ],
 "metadata": {
  "kernelspec": {
   "display_name": "Python 3 (ipykernel)",
   "language": "python",
   "name": "python3"
  },
  "language_info": {
   "codemirror_mode": {
    "name": "ipython",
    "version": 3
   },
   "file_extension": ".py",
   "mimetype": "text/x-python",
   "name": "python",
   "nbconvert_exporter": "python",
   "pygments_lexer": "ipython3",
   "version": "3.9.12"
  }
 },
 "nbformat": 4,
 "nbformat_minor": 5
}
