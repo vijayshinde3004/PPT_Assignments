{
 "cells": [
  {
   "cell_type": "markdown",
   "id": "dce37452",
   "metadata": {},
   "source": [
    "# Assignment 19"
   ]
  },
  {
   "cell_type": "markdown",
   "id": "705a9332",
   "metadata": {},
   "source": [
    "<aside>\n",
    "💡 1. **Merge k Sorted Lists**\n",
    "\n",
    "You are given an array of `k` linked-lists `lists`, each linked-list is sorted in ascending order.\n",
    "\n",
    "*Merge all the linked-lists into one sorted linked-list and return it.*\n",
    "\n",
    "**Example 1:**\n",
    "Input: lists = [[1,4,5],[1,3,4],[2,6]]\n",
    "Output: [1,1,2,3,4,4,5,6]\n",
    "Explanation: The linked-lists are:\n",
    "[\n",
    "  1->4->5,\n",
    "  1->3->4,\n",
    "  2->6\n",
    "]\n",
    "merging them into one sorted list:\n",
    "1->1->2->3->4->4->5->6\n"
   ]
  },
  {
   "cell_type": "code",
   "execution_count": 2,
   "id": "67465a5c",
   "metadata": {},
   "outputs": [
    {
     "name": "stdout",
     "output_type": "stream",
     "text": [
      "1->1->2->3->4->4->5->6->"
     ]
    }
   ],
   "source": [
    "\n",
    "class ListNode:\n",
    "    def __init__(self, val=0, next=None):\n",
    "        self.val = val       \n",
    "        self.next = next\n",
    "def mergeKLists(lists):  \n",
    "    min_heap = []\n",
    "    for i in range(len(lists)):\n",
    "        if lists[i]:\n",
    "            heapq.heappush(min_heap, (lists[i].val, i))\n",
    "            lists[i] = lists[i].next\n",
    "    dummy = ListNode(0)\n",
    "    curr = dummy\n",
    "\n",
    "    while min_heap:\n",
    "        val, idx = heapq.heappop(min_heap)\n",
    "\n",
    "        curr.next = ListNode(val)\n",
    "        curr = curr.next\n",
    "    \n",
    "        if lists[idx]:\n",
    "            heapq.heappush(min_heap, (lists[idx].val, idx))\n",
    "            lists[idx] = lists[idx].next\n",
    "    return dummy.next\n",
    "\n",
    "lists = [\n",
    "    ListNode(1, ListNode(4, ListNode(5))),\n",
    "    ListNode(1, ListNode(3, ListNode(4))),\n",
    "    ListNode(2, ListNode(6))\n",
    "]\n",
    "\n",
    "\n",
    "merged_list = mergeKLists(lists)\n",
    "\n",
    "\n",
    "while merged_list:\n",
    "    print(merged_list.val, end=\"->\")\n",
    "    merged_list = merged_list.next\n",
    "\n"
   ]
  },
  {
   "cell_type": "code",
   "execution_count": null,
   "id": "b9c1f5a5",
   "metadata": {},
   "outputs": [],
   "source": [
    "<aside>\n",
    "💡 2. **Count of Smaller Numbers After Self**\n",
    "\n",
    "Given an integer array `nums`, return *an integer array* `counts` *where* `counts[i]` *is the number of smaller elements to the right of* `nums[i]`.\n",
    "\n",
    "**Example 1:**\n",
    "Input: nums = [5,2,6,1]\n",
    "Output: [2,1,1,0]\n",
    "Explanation:\n",
    "To the right of 5 there are2 smaller elements (2 and 1).\n",
    "To the right of 2 there is only1 smaller element (1).\n",
    "To the right of 6 there is1 smaller element (1).\n",
    "To the right of 1 there is0 smaller element.\n",
    "\n",
    "</aside>"
   ]
  },
  {
   "cell_type": "code",
   "execution_count": 4,
   "id": "7e7fc4a6",
   "metadata": {},
   "outputs": [
    {
     "name": "stdout",
     "output_type": "stream",
     "text": [
      "[2, 2, 1, 2]\n"
     ]
    }
   ],
   "source": [
    "def countSmaller(nums):\n",
    "    results = [0] * len(nums)\n",
    "    nums_pairs = [(nums[i], i) for i in range(len(nums))]\n",
    "\n",
    "    def mergeSort(nums_pairs):\n",
    "        if len(nums_pairs) <= 1:\n",
    "            return nums_pairs\n",
    "\n",
    "        mid = len(nums_pairs) // 2\n",
    "        left = mergeSort(nums_pairs[:mid])\n",
    "        right = mergeSort(nums_pairs[mid:])\n",
    "\n",
    "        i, j = 0, 0\n",
    "        count = 0\n",
    "        merged = []\n",
    "\n",
    "        while i < len(left) and j < len(right):\n",
    "            if left[i][0] <= right[j][0]:\n",
    "                results[left[i][1]] += count\n",
    "                merged.append(left[i])\n",
    "                i += 1\n",
    "            else:\n",
    "                merged.append(right[j])\n",
    "                j += 1\n",
    "                count += 1\n",
    "\n",
    "        results[right[j-1][1]] += count\n",
    "\n",
    "        while i < len(left):\n",
    "            results[left[i][1]] += count\n",
    "            merged.append(left[i])\n",
    "            i += 1\n",
    "\n",
    "        while j < len(right):\n",
    "            merged.append(right[j])\n",
    "            j += 1\n",
    "\n",
    "        return merged\n",
    "\n",
    "    mergeSort(nums_pairs)\n",
    "    return results\n",
    "\n",
    "nums = [5, 2, 6, 1]\n",
    "counts = countSmaller(nums)\n",
    "print(counts)  \n",
    "\n",
    "\n"
   ]
  },
  {
   "cell_type": "markdown",
   "id": "97a410b5",
   "metadata": {},
   "source": [
    "<aside>\n",
    "💡 3. **Sort an Array**\n",
    "\n",
    "Given an array of integers `nums`, sort the array in ascending order and return it.\n",
    "\n",
    "You must solve the problem **without using any built-in** functions in `O(nlog(n))` time complexity and with the smallest space complexity possible.\n",
    "\n",
    "**Example 1:**\n",
    "Input: nums = [5,2,3,1]\n",
    "Output: [1,2,3,5]\n",
    "Explanation: After sorting the array, the positions of some numbers are not changed (for example, 2 and 3), while the positions of other numbers are changed (for example, 1 and 5).\n",
    "\n",
    "</aside>"
   ]
  },
  {
   "cell_type": "code",
   "execution_count": 5,
   "id": "6afe303f",
   "metadata": {},
   "outputs": [
    {
     "name": "stdout",
     "output_type": "stream",
     "text": [
      "[1, 2, 3, 5]\n"
     ]
    }
   ],
   "source": [
    "def sortArray(nums):\n",
    "    def mergeSort(nums):\n",
    "        if len(nums) <= 1:\n",
    "            return nums\n",
    "\n",
    "        mid = len(nums) // 2\n",
    "        left = mergeSort(nums[:mid])\n",
    "        right = mergeSort(nums[mid:])\n",
    "\n",
    "        i, j = 0, 0\n",
    "        sorted_nums = []\n",
    "\n",
    "        while i < len(left) and j < len(right):\n",
    "            if left[i] <= right[j]:\n",
    "                sorted_nums.append(left[i])\n",
    "                i += 1\n",
    "            else:\n",
    "                sorted_nums.append(right[j])\n",
    "                j += 1\n",
    "\n",
    "        sorted_nums.extend(left[i:])\n",
    "        sorted_nums.extend(right[j:])\n",
    "\n",
    "        return sorted_nums\n",
    "\n",
    "    return mergeSort(nums)\n",
    "nums = [5, 2, 3, 1]\n",
    "sorted_nums = sortArray(nums)\n",
    "print(sorted_nums)  \n"
   ]
  },
  {
   "cell_type": "markdown",
   "id": "af1854f3",
   "metadata": {},
   "source": [
    "<aside>\n",
    "💡 4. **Move all zeroes to end of array**\n",
    "\n",
    "Given an array of random numbers, Push all the zero’s of a given array to the end of the array. For example, if the given arrays is {1, 9, 8, 4, 0, 0, 2, 7, 0, 6, 0}, it should be changed to {1, 9, 8, 4, 2, 7, 6, 0, 0, 0, 0}. The order of all other elements should be same. Expected time complexity is O(n) and extra space is O(1).\n",
    "\n",
    "**Example:**\n",
    "Input :  arr[] = {1, 2, 0, 4, 3, 0, 5, 0};\n",
    "Output : arr[] = {1, 2, 4, 3, 5, 0, 0, 0};\n",
    "\n",
    "Input : arr[]  = {1, 2, 0, 0, 0, 3, 6};\n",
    "Output : arr[] = {1, 2, 3, 6, 0, 0, 0};\n",
    "</aside>"
   ]
  },
  {
   "cell_type": "code",
   "execution_count": 6,
   "id": "fcc7839d",
   "metadata": {},
   "outputs": [
    {
     "name": "stdout",
     "output_type": "stream",
     "text": [
      "[1, 2, 4, 3, 5, 0, 0, 0]\n"
     ]
    }
   ],
   "source": [
    "def moveZeroes(nums):\n",
    "    left = 0\n",
    "    right = 0\n",
    "\n",
    "    while right < len(nums):\n",
    "        if nums[right] != 0:\n",
    "            nums[left], nums[right] = nums[right], nums[left]\n",
    "            left += 1\n",
    "        right += 1\n",
    "\n",
    "    return nums\n",
    "arr = [1, 2, 0, 4, 3, 0, 5, 0]\n",
    "result = moveZeroes(arr)\n",
    "print(result)  \n"
   ]
  },
  {
   "cell_type": "markdown",
   "id": "04fbb2e2",
   "metadata": {},
   "source": [
    "<aside>\n",
    "💡 5. **Rearrange array in alternating positive & negative items with O(1) extra space**\n",
    "\n",
    "Given an **array of positive** and **negative numbers**, arrange them in an **alternate** fashion such that every positive number is followed by a negative and vice-versa maintaining the **order of appearance**. The number of positive and negative numbers need not be equal. If there are more positive numbers they appear at the end of the array. If there are more negative numbers, they too appear at the end of the array.\n",
    "\n",
    "**Examples:**\n",
    "Input:  arr[] = {1, 2, 3, -4, -1, 4}\n",
    "Output: arr[] = {-4, 1, -1, 2, 3, 4}\n",
    "\n",
    "Input:  arr[] = {-5, -2, 5, 2, 4, 7, 1, 8, 0, -8}\n",
    "Output: arr[] = {-5, 5, -2, 2, -8, 4, 7, 1, 8, 0}\n",
    "</aside>"
   ]
  },
  {
   "cell_type": "code",
   "execution_count": 7,
   "id": "8420f534",
   "metadata": {},
   "outputs": [
    {
     "name": "stdout",
     "output_type": "stream",
     "text": [
      "[-4, -1, 3, 1, 2, 4]\n"
     ]
    }
   ],
   "source": [
    "def rearrangeArray(nums):\n",
    "    left = 0\n",
    "    right = 0\n",
    "    n = len(nums)\n",
    "\n",
    "    while left < n and right < n:\n",
    "        while left < n and nums[left] > 0:\n",
    "            left += 1\n",
    "        while right < n and nums[right] < 0:\n",
    "            right += 1\n",
    "\n",
    "        if left < n and right < n:\n",
    "            nums[left], nums[right] = nums[right], nums[left]\n",
    "            left += 1\n",
    "            right += 1\n",
    "        else:\n",
    "            break\n",
    "\n",
    "    return nums\n",
    "arr1 = [1, 2, 3, -4, -1, 4]\n",
    "result1 = rearrangeArray(arr1)\n",
    "print(result1)  \n"
   ]
  },
  {
   "cell_type": "markdown",
   "id": "443ff8a1",
   "metadata": {},
   "source": [
    "<aside>\n",
    "💡 **6. Merge two sorted arrays**\n",
    "\n",
    "Given two sorted arrays, the task is to merge them in a sorted manner.\n",
    "\n",
    "**Examples:**\n",
    "\n",
    "> Input: arr1[] = { 1, 3, 4, 5}, arr2[] = {2, 4, 6, 8} \n",
    "Output: arr3[] = {1, 2, 3, 4, 4, 5, 6, 8}\n",
    "\n",
    "Input: arr1[] = { 5, 8, 9}, arr2[] = {4, 7, 8}\n",
    "Output: arr3[] = {4, 5, 7, 8, 8, 9}\n",
    "> \n",
    "</aside>"
   ]
  },
  {
   "cell_type": "code",
   "execution_count": 8,
   "id": "6c77843d",
   "metadata": {},
   "outputs": [
    {
     "name": "stdout",
     "output_type": "stream",
     "text": [
      "[1, 2, 3, 4, 4, 5, 6, 8]\n"
     ]
    }
   ],
   "source": [
    "def mergeSortedArrays(arr1, arr2):\n",
    "    merged = []\n",
    "    i = 0\n",
    "    j = 0\n",
    "\n",
    "    while i < len(arr1) and j < len(arr2):\n",
    "        if arr1[i] <= arr2[j]:\n",
    "            merged.append(arr1[i])\n",
    "            i += 1\n",
    "        else:\n",
    "            merged.append(arr2[j])\n",
    "            j += 1\n",
    "\n",
    "    # Append remaining elements from arr1 or arr2\n",
    "    while i < len(arr1):\n",
    "        merged.append(arr1[i])\n",
    "        i += 1\n",
    "\n",
    "    while j < len(arr2):\n",
    "        merged.append(arr2[j])\n",
    "        j += 1\n",
    "\n",
    "    return merged\n",
    "arr1 = [1, 3, 4, 5]\n",
    "arr2 = [2, 4, 6, 8]\n",
    "result1 = mergeSortedArrays(arr1, arr2)\n",
    "print(result1) \n"
   ]
  },
  {
   "cell_type": "markdown",
   "id": "1d674d7c",
   "metadata": {},
   "source": [
    "<aside>\n",
    "💡 7. **Intersection of Two Arrays**\n",
    "\n",
    "Given two integer arrays `nums1` and `nums2`, return *an array of their intersection*. Each element in the result must be **unique** and you may return the result in **any order**.\n",
    "\n",
    "**Example 1:**\n",
    "Input: nums1 = [1,2,2,1], nums2 = [2,2]\n",
    "Output: [2]\n",
    "\n",
    "</aside>"
   ]
  },
  {
   "cell_type": "code",
   "execution_count": 9,
   "id": "f30dbb16",
   "metadata": {},
   "outputs": [
    {
     "name": "stdout",
     "output_type": "stream",
     "text": [
      "[2]\n"
     ]
    }
   ],
   "source": [
    "def intersection(nums1, nums2):\n",
    "    set1 = set(nums1)\n",
    "    intersection = set()\n",
    "\n",
    "    for num in nums2:\n",
    "        if num in set1:\n",
    "            intersection.add(num)\n",
    "\n",
    "    return list(intersection)\n",
    "nums1 = [1, 2, 2, 1]\n",
    "nums2 = [2, 2]\n",
    "result = intersection(nums1, nums2)\n",
    "print(result)\n",
    "\n"
   ]
  },
  {
   "cell_type": "markdown",
   "id": "5cd050df",
   "metadata": {},
   "source": [
    "<aside>\n",
    "💡 8. **Intersection of Two Arrays II**\n",
    "\n",
    "Given two integer arrays `nums1` and `nums2`, return *an array of their intersection*. Each element in the result must appear as many times as it shows in both arrays and you may return the result in **any order**.\n",
    "\n",
    "**Example 1:**\n",
    "Input: nums1 = [1,2,2,1], nums2 = [2,2]\n",
    "Output: [2,2]\n",
    "\n",
    "</aside>"
   ]
  },
  {
   "cell_type": "code",
   "execution_count": 10,
   "id": "e4780991",
   "metadata": {},
   "outputs": [
    {
     "name": "stdout",
     "output_type": "stream",
     "text": [
      "[2, 2]\n"
     ]
    }
   ],
   "source": [
    "from collections import defaultdict\n",
    "\n",
    "def intersect(nums1, nums2):\n",
    "    countMap = defaultdict(int)\n",
    "    intersection = []\n",
    "\n",
    "    for num in nums1:\n",
    "        countMap[num] += 1\n",
    "\n",
    "    for num in nums2:\n",
    "        if countMap[num] > 0:\n",
    "            intersection.append(num)\n",
    "            countMap[num] -= 1\n",
    "\n",
    "    return intersection\n",
    "nums1 = [1, 2, 2, 1]\n",
    "nums2 = [2, 2]\n",
    "result = intersect(nums1, nums2)\n",
    "print(result)  \n",
    "\n",
    "\n",
    "\n"
   ]
  },
  {
   "cell_type": "code",
   "execution_count": null,
   "id": "1aaf66d9",
   "metadata": {},
   "outputs": [],
   "source": []
  }
 ],
 "metadata": {
  "kernelspec": {
   "display_name": "Python 3 (ipykernel)",
   "language": "python",
   "name": "python3"
  },
  "language_info": {
   "codemirror_mode": {
    "name": "ipython",
    "version": 3
   },
   "file_extension": ".py",
   "mimetype": "text/x-python",
   "name": "python",
   "nbconvert_exporter": "python",
   "pygments_lexer": "ipython3",
   "version": "3.9.12"
  }
 },
 "nbformat": 4,
 "nbformat_minor": 5
}
