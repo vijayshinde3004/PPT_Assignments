{
 "cells": [
  {
   "cell_type": "markdown",
   "id": "2c91473c",
   "metadata": {},
   "source": [
    "# Assignment 15"
   ]
  },
  {
   "cell_type": "markdown",
   "id": "6cd8ddc0",
   "metadata": {},
   "source": [
    "<aside>\n",
    "💡 **Question 1**\n",
    "\n",
    "Given an array **arr[ ]** of size **N** having elements, the task is to find the next greater element for each element of the array in order of their appearance in the array.Next greater element of an element in the array is the nearest element on the right which is greater than the current element.If there does not exist next greater of current element, then next greater element for current element is -1. For example, next greater of the last element is always -1.\n",
    "\n",
    "**Example 1:**\n",
    "\n",
    "</aside>\n",
    "Input:\n",
    "N = 4, arr[] = [1 3 2 4]\n",
    "Output:\n",
    "3 4 4 -1\n",
    "Explanation:\n",
    "In the array, the next larger element\n",
    "to 1 is 3 , 3 is 4 , 2 is 4 and for 4 ?\n",
    "since it doesn't exist, it is -1.\n"
   ]
  },
  {
   "cell_type": "code",
   "execution_count": 24,
   "id": "a70e187b",
   "metadata": {},
   "outputs": [],
   "source": [
    "def nextGreterelement(arr,n):\n",
    "    stack = []\n",
    "    result = [-1]*n\n",
    "    for i in range(n - 1, -1, -1):\n",
    "        while stack and arr[i] >= arr[stack[-1]]:\n",
    "            stack.pop()\n",
    "        if stack:\n",
    "            result[i] = arr[stack[-1]]\n",
    "        stack.append(i)\n",
    "    return result\n",
    "    "
   ]
  },
  {
   "cell_type": "code",
   "execution_count": 26,
   "id": "e0bd2ea9",
   "metadata": {},
   "outputs": [
    {
     "data": {
      "text/plain": [
       "[3, 4, 4, -1]"
      ]
     },
     "execution_count": 26,
     "metadata": {},
     "output_type": "execute_result"
    }
   ],
   "source": [
    "nextGreterelement([1,3,2,4],4)"
   ]
  },
  {
   "cell_type": "markdown",
   "id": "b321ab81",
   "metadata": {},
   "source": [
    "<aside>\n",
    "💡 **Question 2**\n",
    "\n",
    "Given an array **a** of integers of length **n**, find the nearest smaller number for every element such that the smaller element is on left side.If no small element present on the left print -1.\n",
    "\n",
    "**Example 1:**\n",
    "\n",
    "</aside>\n",
    "Input: n = 3\n",
    "a = {1, 6, 2}\n",
    "Output: -1 1 1\n",
    "Explaination: There is no number at the\n",
    "left of 1. Smaller number than 6 and 2 is 1."
   ]
  },
  {
   "cell_type": "code",
   "execution_count": 40,
   "id": "c1dff381",
   "metadata": {},
   "outputs": [],
   "source": [
    "def findSmallerEle(arr,n):\n",
    "    stack=[]\n",
    "    result=[-1]*n\n",
    "    for i in range(n):\n",
    "        while stack and (arr[stack[-1]]>=arr[i]):\n",
    "            stack.pop()\n",
    "        if stack:\n",
    "            result[i]=arr[stack[-1]]\n",
    "        stack.append(i)\n",
    "    return result"
   ]
  },
  {
   "cell_type": "code",
   "execution_count": 41,
   "id": "7fafdaae",
   "metadata": {},
   "outputs": [
    {
     "data": {
      "text/plain": [
       "[-1, 1, 1]"
      ]
     },
     "execution_count": 41,
     "metadata": {},
     "output_type": "execute_result"
    }
   ],
   "source": [
    "findSmallerEle([1,6,2],3)"
   ]
  },
  {
   "cell_type": "markdown",
   "id": "58e95097",
   "metadata": {},
   "source": [
    "<aside>\n",
    "💡 **Question 3**\n",
    "\n",
    "Implement a Stack using two queues **q1** and **q2**.\n",
    "\n",
    "</aside>\n",
    "Input:\n",
    "push(2)\n",
    "push(3)\n",
    "pop()\n",
    "push(4)\n",
    "pop()\n",
    "Output:3 4\n",
    "Explanation:\n",
    "push(2) the stack will be {2}\n",
    "push(3) the stack will be {2 3}\n",
    "pop()   poped element will be 3 the\n",
    "        stack will be {2}\n",
    "push(4) the stack will be {2 4}\n",
    "pop()   poped element will be 4\n"
   ]
  },
  {
   "cell_type": "code",
   "execution_count": 42,
   "id": "bfc3b803",
   "metadata": {},
   "outputs": [],
   "source": [
    "class stack:\n",
    "    def __init__(self):\n",
    "        self.q1=[]\n",
    "        self.q2=[]\n",
    "    def push(self,x):\n",
    "        self1.q1.append(x)\n",
    "    def pop(self):\n",
    "        if not self.q1:\n",
    "            return None\n",
    "        while len(self.q1)>1:\n",
    "            self.q2.append(self.q1.pop(0))\n",
    "        poped=self.q1.pop()\n",
    "        self.q1,self.q2=self.q2,self.q1\n",
    "        return poped"
   ]
  },
  {
   "cell_type": "markdown",
   "id": "9ec8f117",
   "metadata": {},
   "source": [
    "<aside>\n",
    "💡 **Question 4**\n",
    "\n",
    "You are given a stack **St**. You have to reverse the stack using recursion.\n",
    "\n",
    "</aside>\n",
    "Input:St = {3,2,1,7,6}\n",
    "Output:{6,7,1,2,3}"
   ]
  },
  {
   "cell_type": "code",
   "execution_count": 49,
   "id": "061c85b3",
   "metadata": {},
   "outputs": [],
   "source": [
    "class Stack:\n",
    "    def __init__(self):\n",
    "        self.items = []\n",
    "    def push(self, item):\n",
    "        self.items.append(item)\n",
    "    def pop(self):\n",
    "        if not self.is_empty():\n",
    "            return self.items.pop()\n",
    "    def is_empty(self):\n",
    "        return len(self.items) == 0"
   ]
  },
  {
   "cell_type": "code",
   "execution_count": 50,
   "id": "fbbc0f12",
   "metadata": {},
   "outputs": [],
   "source": [
    "def insertAtBottom(stack, item):\n",
    "    if stack.is_empty():\n",
    "        stack.push(item)\n",
    "    else:\n",
    "        top = stack.pop()\n",
    "        insertAtBottom(stack, item)\n",
    "        stack.push(top)\n",
    "def reverseStack(stack):\n",
    "    if not stack.is_empty():\n",
    "        top = stack.pop()\n",
    "        reverseStack(stack)\n",
    "        insertAtBottom(stack, top)"
   ]
  },
  {
   "cell_type": "code",
   "execution_count": 51,
   "id": "8ffe6bcd",
   "metadata": {},
   "outputs": [
    {
     "name": "stdout",
     "output_type": "stream",
     "text": [
      "Original Stack: [3, 2, 1, 7, 6]\n",
      "Reversed Stack: [6, 7, 1, 2, 3]\n"
     ]
    }
   ],
   "source": [
    "stack = Stack()\n",
    "stack.push(3)\n",
    "stack.push(2)\n",
    "stack.push(1)\n",
    "stack.push(7)\n",
    "stack.push(6)\n",
    "\n",
    "print(\"Original Stack:\", stack.items)\n",
    "reverseStack(stack)\n",
    "print(\"Reversed Stack:\", stack.items)"
   ]
  },
  {
   "cell_type": "markdown",
   "id": "6cfcb6cd",
   "metadata": {},
   "source": [
    "<aside>\n",
    "💡 **Question 5**\n",
    "\n",
    "You are given a string **S**, the task is to reverse the string using stack.\n",
    "\n",
    "</aside>\n",
    "Input: S=\"GeeksforGeeks\"\n",
    "Output: skeeGrofskeeG"
   ]
  },
  {
   "cell_type": "code",
   "execution_count": 53,
   "id": "c2e362fa",
   "metadata": {},
   "outputs": [],
   "source": [
    "def reverseString(S):\n",
    "    stack = Stack()\n",
    "    for char in S:\n",
    "        stack.push(char)\n",
    "    reversedString = \"\"\n",
    "    while not stack.is_empty():\n",
    "        reversedString += stack.pop()\n",
    "    return reversedString\n"
   ]
  },
  {
   "cell_type": "code",
   "execution_count": 55,
   "id": "9fdb0537",
   "metadata": {},
   "outputs": [
    {
     "data": {
      "text/plain": [
       "'skeeGrofskeeG'"
      ]
     },
     "execution_count": 55,
     "metadata": {},
     "output_type": "execute_result"
    }
   ],
   "source": [
    "reversedString = reverseString(\"GeeksforGeeks\")\n",
    "reversedString"
   ]
  },
  {
   "cell_type": "markdown",
   "id": "2c4b2aa2",
   "metadata": {},
   "source": [
    "<aside>\n",
    "💡 **Question 6**\n",
    "\n",
    "Given string **S** representing a postfix expression, the task is to evaluate the expression and find the final value. Operators will only include the basic arithmetic operators like ***, /, + and -**.\n",
    "\n",
    "**Example 1:**\n",
    "\n",
    "</aside>\n",
    "Input: S = \"231*+9-\"\n",
    "Output: -4\n",
    "Explanation:\n",
    "After solving the given expression,\n",
    "we have -4 as result.\n"
   ]
  },
  {
   "cell_type": "code",
   "execution_count": 56,
   "id": "038d1fde",
   "metadata": {},
   "outputs": [],
   "source": [
    "def evaluatePostfixExpression(S):\n",
    "    stack = Stack()\n",
    "    for char in S:\n",
    "        if char.isdigit():\n",
    "            stack.push(int(char))\n",
    "        else:\n",
    "            operand2 = stack.pop()\n",
    "            operand1 = stack.pop()\n",
    "            if char == '+':\n",
    "                result = operand1 + operand2\n",
    "            elif char == '-':\n",
    "                result = operand1 - operand2\n",
    "            elif char == '*':\n",
    "                result = operand1 * operand2\n",
    "            elif char == '/':\n",
    "                result = operand1 / operand2\n",
    "            stack.push(result)\n",
    "    return stack.pop()\n"
   ]
  },
  {
   "cell_type": "code",
   "execution_count": 59,
   "id": "a02b0ff9",
   "metadata": {},
   "outputs": [
    {
     "data": {
      "text/plain": [
       "-4"
      ]
     },
     "execution_count": 59,
     "metadata": {},
     "output_type": "execute_result"
    }
   ],
   "source": [
    "evaluatePostfixExpression(\"231*+9-\")\n"
   ]
  },
  {
   "cell_type": "markdown",
   "id": "ead3e4ea",
   "metadata": {},
   "source": [
    "<aside>\n",
    "💡 **uestion 7**\n",
    "\n",
    "Design a stack that supports push, pop, top, and retrieving the minimum element in constant time.\n",
    "\n",
    "Implement the `MinStack` class:\n",
    "\n",
    "- `MinStack()` initializes the stack object.\n",
    "- `void push(int val)` pushes the element `val` onto the stack.\n",
    "- `void pop()` removes the element on the top of the stack.\n",
    "- `int top()` gets the top element of the stack.\n",
    "- `int getMin()` retrieves the minimum element in the stack.\n",
    "\n",
    "You must implement a solution with `O(1)` time complexity for each function.\n",
    "\n",
    "</aside>Input\n",
    "[\"MinStack\",\"push\",\"push\",\"push\",\"getMin\",\"pop\",\"top\",\"getMin\"]\n",
    "[[],[-2],[0],[-3],[],[],[],[]]\n",
    "\n",
    "Output\n",
    "[null,null,null,null,-3,null,0,-2]\n",
    "\n",
    "Explanation\n",
    "MinStack minStack = new MinStack();\n",
    "minStack.push(-2);\n",
    "minStack.push(0);\n",
    "minStack.push(-3);\n",
    "minStack.getMin(); // return -3\n",
    "minStack.pop();\n",
    "minStack.top();    // return 0\n",
    "minStack.getMin(); // return -2"
   ]
  },
  {
   "cell_type": "code",
   "execution_count": 60,
   "id": "82f475be",
   "metadata": {},
   "outputs": [],
   "source": [
    "class MinStack:\n",
    "    def __init__(self):\n",
    "        self.stack = []\n",
    "        self.minStack = []\n",
    "\n",
    "    def push(self, val):\n",
    "        self.stack.append(val)\n",
    "        if not self.minStack or val <= self.minStack[-1]:\n",
    "            self.minStack.append(val)\n",
    "\n",
    "    def pop(self):\n",
    "        if self.stack:\n",
    "            popped = self.stack.pop()\n",
    "            if popped == self.minStack[-1]:\n",
    "                self.minStack.pop()\n",
    "\n",
    "    def top(self):\n",
    "        if self.stack:\n",
    "            return self.stack[-1]\n",
    "\n",
    "    def getMin(self):\n",
    "        if self.minStack:\n",
    "            return self.minStack[-1]\n"
   ]
  },
  {
   "cell_type": "markdown",
   "id": "c7ee5cb5",
   "metadata": {},
   "source": [
    "<aside>\n",
    "💡 **Question 8**\n",
    "\n",
    "Given `n` non-negative integers representing an elevation map where the width of each bar is `1`, compute how much water it can trap after raining.\n",
    "\n",
    "**Example 1:**\n",
    "\n",
    "</aside>\n",
    "Input: height = [0,1,0,2,1,0,1,3,2,1,2,1]\n",
    "Output: 6\n",
    "Explanation: The above elevation map (black section) is represented by array [0,1,0,2,1,0,1,3,2,1,2,1]. In this case, 6 units of rain water (blue section) are being trapped.\n"
   ]
  },
  {
   "cell_type": "code",
   "execution_count": 62,
   "id": "658a8bce",
   "metadata": {},
   "outputs": [],
   "source": [
    "def trap(height):\n",
    "    n = len(height)\n",
    "    left = 0\n",
    "    right = n - 1\n",
    "    leftMax = 0\n",
    "    rightMax = 0\n",
    "    water = 0\n",
    "    while left <= right:\n",
    "        if height[left] <= height[right]:\n",
    "            if height[left] > leftMax:\n",
    "                leftMax = height[left]\n",
    "            else:\n",
    "                water += leftMax - height[left]\n",
    "            left += 1\n",
    "        else:\n",
    "            if height[right] > rightMax:\n",
    "                rightMax = height[right]\n",
    "            else:\n",
    "                water += rightMax - height[right]\n",
    "            right -= 1\n",
    "\n",
    "    return water\n"
   ]
  },
  {
   "cell_type": "code",
   "execution_count": 63,
   "id": "7133d173",
   "metadata": {},
   "outputs": [
    {
     "data": {
      "text/plain": [
       "6"
      ]
     },
     "execution_count": 63,
     "metadata": {},
     "output_type": "execute_result"
    }
   ],
   "source": [
    "trap([0, 1, 0, 2, 1, 0, 1, 3, 2, 1, 2, 1])"
   ]
  },
  {
   "cell_type": "code",
   "execution_count": null,
   "id": "308054b0",
   "metadata": {},
   "outputs": [],
   "source": []
  }
 ],
 "metadata": {
  "kernelspec": {
   "display_name": "Python 3 (ipykernel)",
   "language": "python",
   "name": "python3"
  },
  "language_info": {
   "codemirror_mode": {
    "name": "ipython",
    "version": 3
   },
   "file_extension": ".py",
   "mimetype": "text/x-python",
   "name": "python",
   "nbconvert_exporter": "python",
   "pygments_lexer": "ipython3",
   "version": "3.9.12"
  }
 },
 "nbformat": 4,
 "nbformat_minor": 5
}
