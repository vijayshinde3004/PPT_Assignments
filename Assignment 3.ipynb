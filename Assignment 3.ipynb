{
 "cells": [
  {
   "cell_type": "markdown",
   "id": "d4b20ff1",
   "metadata": {},
   "source": [
    "## Assignment 3\n"
   ]
  },
  {
   "cell_type": "markdown",
   "id": "7a107d46",
   "metadata": {},
   "source": [
    "Question 1\n",
    "Given an integer array nums of length n and an integer target, find three integers\n",
    "in nums such that the sum is closest to the target.\n",
    "Return the sum of the three integers.\n",
    "\n",
    "You may assume that each input would have exactly one solution.\n",
    "\n",
    "Example 1:\n",
    "Input: nums = [-1,2,1,-4], target = 1\n",
    "Output: 2\n",
    "\n",
    "Explanation: The sum that is closest to the target is 2. (-1 + 2 + 1 = 2)."
   ]
  },
  {
   "cell_type": "code",
   "execution_count": 1,
   "id": "da164a4c",
   "metadata": {},
   "outputs": [],
   "source": [
    "def threeSumClosest(nums, target):\n",
    "    nums.sort()\n",
    "    n = len(nums)\n",
    "    closest_sum = float('inf')\n",
    "\n",
    "    for i in range(n - 2):\n",
    "        left = i + 1\n",
    "        right = n - 1\n",
    "\n",
    "        while left < right:\n",
    "            current_sum = nums[i] + nums[left] + nums[right]\n",
    "\n",
    "            if current_sum == target:\n",
    "                return target\n",
    "\n",
    "            if abs(current_sum - target) < abs(closest_sum - target):\n",
    "                closest_sum = current_sum\n",
    "\n",
    "            if current_sum < target:\n",
    "                left += 1\n",
    "            else:\n",
    "                right -= 1\n",
    "\n",
    "    return closest_sum\n"
   ]
  },
  {
   "cell_type": "code",
   "execution_count": 2,
   "id": "fb50fb14",
   "metadata": {},
   "outputs": [
    {
     "data": {
      "text/plain": [
       "2"
      ]
     },
     "execution_count": 2,
     "metadata": {},
     "output_type": "execute_result"
    }
   ],
   "source": [
    "threeSumClosest([-1,2,1,-4],1)"
   ]
  },
  {
   "cell_type": "markdown",
   "id": "57781d64",
   "metadata": {},
   "source": [
    "Question 2\n",
    "Given an array nums of n integers, return an array of all the unique quadruplets\n",
    "[nums[a], nums[b], nums[c], nums[d]] such that:\n",
    "           ● 0 <= a, b, c, d < n\n",
    "           ● a, b, c, and d are distinct.\n",
    "           ● nums[a] + nums[b] + nums[c] + nums[d] == target\n",
    "\n",
    "You may return the answer in any order.\n",
    "\n",
    "Example 1:\n",
    "Input: nums = [1,0,-1,0,-2,2], target = 0\n",
    "Output: [[-2,-1,1,2],[-2,0,0,2],[-1,0,0,1]]"
   ]
  },
  {
   "cell_type": "code",
   "execution_count": 3,
   "id": "299d641d",
   "metadata": {},
   "outputs": [],
   "source": [
    "def fourSum(nums, target):\n",
    "    nums.sort()\n",
    "    n = len(nums)\n",
    "    result = []\n",
    "\n",
    "    for i in range(n - 3):\n",
    "        if i > 0 and nums[i] == nums[i - 1]:\n",
    "            continue\n",
    "\n",
    "        for j in range(i + 1, n - 2):\n",
    "            if j > i + 1 and nums[j] == nums[j - 1]:\n",
    "                continue\n",
    "\n",
    "            left = j + 1\n",
    "            right = n - 1\n",
    "\n",
    "            while left < right:\n",
    "                current_sum = nums[i] + nums[j] + nums[left] + nums[right]\n",
    "\n",
    "                if current_sum == target:\n",
    "                    result.append([nums[i], nums[j], nums[left], nums[right]])\n",
    "\n",
    "                    while left < right and nums[left] == nums[left + 1]:\n",
    "                        left += 1\n",
    "                    while left < right and nums[right] == nums[right - 1]:\n",
    "                        right -= 1\n",
    "\n",
    "                    left += 1\n",
    "                    right -= 1\n",
    "\n",
    "                elif current_sum < target:\n",
    "                    left += 1\n",
    "                else:\n",
    "                    right -= 1\n",
    "\n",
    "    return result\n"
   ]
  },
  {
   "cell_type": "code",
   "execution_count": 4,
   "id": "2f48e129",
   "metadata": {},
   "outputs": [
    {
     "data": {
      "text/plain": [
       "[[-2, -1, 1, 2], [-2, 0, 0, 2], [-1, 0, 0, 1]]"
      ]
     },
     "execution_count": 4,
     "metadata": {},
     "output_type": "execute_result"
    }
   ],
   "source": [
    "fourSum([1,0,-1,0,-2,2],0)"
   ]
  },
  {
   "cell_type": "markdown",
   "id": "625c2ab9",
   "metadata": {},
   "source": [
    "<aside>\n",
    "💡 **Question 3**\n",
    "A permutation of an array of integers is an arrangement of its members into a\n",
    "sequence or linear order.\n",
    "\n",
    "For example, for arr = [1,2,3], the following are all the permutations of arr:\n",
    "[1,2,3], [1,3,2], [2, 1, 3], [2, 3, 1], [3,1,2], [3,2,1].\n",
    "\n",
    "The next permutation of an array of integers is the next lexicographically greater\n",
    "permutation of its integer. More formally, if all the permutations of the array are\n",
    "sorted in one container according to their lexicographical order, then the next\n",
    "permutation of that array is the permutation that follows it in the sorted container.\n",
    "\n",
    "If such an arrangement is not possible, the array must be rearranged as the\n",
    "lowest possible order (i.e., sorted in ascending order).\n",
    "\n",
    "● For example, the next permutation of arr = [1,2,3] is [1,3,2].\n",
    "● Similarly, the next permutation of arr = [2,3,1] is [3,1,2].\n",
    "● While the next permutation of arr = [3,2,1] is [1,2,3] because [3,2,1] does not\n",
    "have a lexicographical larger rearrangement.\n",
    "\n",
    "Given an array of integers nums, find the next permutation of nums.\n",
    "The replacement must be in place and use only constant extra memory.\n",
    "\n",
    "**Example 1:**\n",
    "Input: nums = [1,2,3]\n",
    "Output: [1,3,2]\n",
    "\n",
    "</aside>"
   ]
  },
  {
   "cell_type": "code",
   "execution_count": 7,
   "id": "0498bb1e",
   "metadata": {},
   "outputs": [],
   "source": [
    "def nextPermutation(nums):\n",
    "    n = len(nums)\n",
    "    i = n - 2\n",
    "    while i >= 0 and nums[i] >= nums[i + 1]:\n",
    "        i -= 1\n",
    "    if i >= 0:\n",
    "        j = n - 1\n",
    "        while j > i and nums[j] <= nums[i]:\n",
    "            j -= 1\n",
    "        nums[i], nums[j] = nums[j], nums[i]\n",
    "    left = i + 1\n",
    "    right = n - 1\n",
    "    while left < right:\n",
    "        nums[left], nums[right] = nums[right], nums[left]\n",
    "        left += 1\n",
    "        right -= 1\n",
    "    return nums"
   ]
  },
  {
   "cell_type": "code",
   "execution_count": 8,
   "id": "7861a8c4",
   "metadata": {},
   "outputs": [
    {
     "data": {
      "text/plain": [
       "[1, 3, 2]"
      ]
     },
     "execution_count": 8,
     "metadata": {},
     "output_type": "execute_result"
    }
   ],
   "source": [
    "nextPermutation([1,2,3])"
   ]
  },
  {
   "cell_type": "markdown",
   "id": "979126c1",
   "metadata": {},
   "source": [
    "Question 4\n",
    "Given a sorted array of distinct integers and a target value, return the index if the\n",
    "target is found. If not, return the index where it would be if it were inserted in\n",
    "order.\n",
    "\n",
    "You must write an algorithm with O(log n) runtime complexity.\n",
    "\n",
    "Example 1:\n",
    "Input: nums = [1,3,5,6], target = 5\n",
    "Output: 2"
   ]
  },
  {
   "cell_type": "code",
   "execution_count": 9,
   "id": "fd003ea9",
   "metadata": {},
   "outputs": [],
   "source": [
    "def searchInsert(nums, target):\n",
    "    left = 0\n",
    "    right = len(nums) - 1\n",
    "    while left <= right:\n",
    "        mid = (left + right) // 2\n",
    "        if nums[mid] == target:\n",
    "            return mid\n",
    "        elif nums[mid] < target:\n",
    "            left = mid + 1\n",
    "        else:\n",
    "            right = mid - 1\n",
    "\n",
    "    return left\n"
   ]
  },
  {
   "cell_type": "code",
   "execution_count": 10,
   "id": "1dd3370a",
   "metadata": {},
   "outputs": [
    {
     "data": {
      "text/plain": [
       "2"
      ]
     },
     "execution_count": 10,
     "metadata": {},
     "output_type": "execute_result"
    }
   ],
   "source": [
    "searchInsert([1,3,5,6],5)"
   ]
  },
  {
   "cell_type": "markdown",
   "id": "1446ab94",
   "metadata": {},
   "source": [
    "<aside>\n",
    "💡 **Question 5**\n",
    "You are given a large integer represented as an integer array digits, where each\n",
    "digits[i] is the ith digit of the integer. The digits are ordered from most significant\n",
    "to least significant in left-to-right order. The large integer does not contain any\n",
    "leading 0's.\n",
    "\n",
    "Increment the large integer by one and return the resulting array of digits.\n",
    "\n",
    "**Example 1:**\n",
    "Input: digits = [1,2,3]\n",
    "Output: [1,2,4]\n",
    "\n",
    "**Explanation:** The array represents the integer 123.\n",
    "Incrementing by one gives 123 + 1 = 124.\n",
    "Thus, the result should be [1,2,4].\n",
    "\n",
    "</aside>"
   ]
  },
  {
   "cell_type": "code",
   "execution_count": 11,
   "id": "1a5ce850",
   "metadata": {},
   "outputs": [],
   "source": [
    "def plusOne(digits):\n",
    "    n = len(digits)\n",
    "    for i in range(n - 1, -1, -1):\n",
    "        if digits[i] < 9:\n",
    "            digits[i] += 1\n",
    "            return digits\n",
    "        digits[i] = 0\n",
    "    digits.insert(0, 1)\n",
    "    return digits\n"
   ]
  },
  {
   "cell_type": "code",
   "execution_count": 12,
   "id": "7f7db622",
   "metadata": {},
   "outputs": [
    {
     "data": {
      "text/plain": [
       "[1, 2, 4]"
      ]
     },
     "execution_count": 12,
     "metadata": {},
     "output_type": "execute_result"
    }
   ],
   "source": [
    "plusOne([1,2,3])"
   ]
  },
  {
   "cell_type": "markdown",
   "id": "ec77bb0a",
   "metadata": {},
   "source": [
    "Question 6\n",
    "Given a non-empty array of integers nums, every element appears twice except\n",
    "for one. Find that single one.\n",
    "\n",
    "You must implement a solution with a linear runtime complexity and use only\n",
    "constant extra space.\n",
    "\n",
    "Example 1:\n",
    "Input: nums = [2,2,1]\n",
    "Output: 1"
   ]
  },
  {
   "cell_type": "code",
   "execution_count": 13,
   "id": "c5071e9e",
   "metadata": {},
   "outputs": [],
   "source": [
    "def singleNumber(nums):\n",
    "    result = 0\n",
    "    for num in nums:\n",
    "        result ^= num\n",
    "    return result\n"
   ]
  },
  {
   "cell_type": "code",
   "execution_count": 14,
   "id": "2d94a91a",
   "metadata": {},
   "outputs": [
    {
     "data": {
      "text/plain": [
       "1"
      ]
     },
     "execution_count": 14,
     "metadata": {},
     "output_type": "execute_result"
    }
   ],
   "source": [
    "singleNumber([2,2,1])"
   ]
  },
  {
   "cell_type": "markdown",
   "id": "70afe878",
   "metadata": {},
   "source": [
    "Question 7\n",
    "You are given an inclusive range [lower, upper] and a sorted unique integer array\n",
    "nums, where all elements are within the inclusive range.\n",
    "\n",
    "A number x is considered missing if x is in the range [lower, upper] and x is not in\n",
    "nums.\n",
    "\n",
    "Return the shortest sorted list of ranges that exactly covers all the missing\n",
    "numbers. That is, no element of nums is included in any of the ranges, and each\n",
    "missing number is covered by one of the ranges.\n",
    "\n",
    "Example 1:\n",
    "Input: nums = [0,1,3,50,75], lower = 0, upper = 99\n",
    "Output: [[2,2],[4,49],[51,74],[76,99]]\n",
    "\n",
    "Explanation: The ranges are:\n",
    "[2,2]\n",
    "[4,49]\n",
    "[51,74]\n",
    "[76,99]"
   ]
  },
  {
   "cell_type": "code",
   "execution_count": 16,
   "id": "a402e223",
   "metadata": {},
   "outputs": [],
   "source": [
    "def findMissingRanges(nums, lower, upper):\n",
    "    result = []\n",
    "    start = lower\n",
    "    for num in range(lower, upper+1):\n",
    "        if num in nums:\n",
    "            continue\n",
    "        start = num\n",
    "        while num+1 not in nums and num+1 <= upper:\n",
    "            num += 1\n",
    "        end = num+1\n",
    "        result.append([start, end-1])\n",
    "        start = end\n",
    "    return result\n"
   ]
  },
  {
   "cell_type": "code",
   "execution_count": 17,
   "id": "ae795861",
   "metadata": {},
   "outputs": [
    {
     "data": {
      "text/plain": [
       "[[2, 2],\n",
       " [4, 49],\n",
       " [5, 49],\n",
       " [6, 49],\n",
       " [7, 49],\n",
       " [8, 49],\n",
       " [9, 49],\n",
       " [10, 49],\n",
       " [11, 49],\n",
       " [12, 49],\n",
       " [13, 49],\n",
       " [14, 49],\n",
       " [15, 49],\n",
       " [16, 49],\n",
       " [17, 49],\n",
       " [18, 49],\n",
       " [19, 49],\n",
       " [20, 49],\n",
       " [21, 49],\n",
       " [22, 49],\n",
       " [23, 49],\n",
       " [24, 49],\n",
       " [25, 49],\n",
       " [26, 49],\n",
       " [27, 49],\n",
       " [28, 49],\n",
       " [29, 49],\n",
       " [30, 49],\n",
       " [31, 49],\n",
       " [32, 49],\n",
       " [33, 49],\n",
       " [34, 49],\n",
       " [35, 49],\n",
       " [36, 49],\n",
       " [37, 49],\n",
       " [38, 49],\n",
       " [39, 49],\n",
       " [40, 49],\n",
       " [41, 49],\n",
       " [42, 49],\n",
       " [43, 49],\n",
       " [44, 49],\n",
       " [45, 49],\n",
       " [46, 49],\n",
       " [47, 49],\n",
       " [48, 49],\n",
       " [49, 49],\n",
       " [51, 74],\n",
       " [52, 74],\n",
       " [53, 74],\n",
       " [54, 74],\n",
       " [55, 74],\n",
       " [56, 74],\n",
       " [57, 74],\n",
       " [58, 74],\n",
       " [59, 74],\n",
       " [60, 74],\n",
       " [61, 74],\n",
       " [62, 74],\n",
       " [63, 74],\n",
       " [64, 74],\n",
       " [65, 74],\n",
       " [66, 74],\n",
       " [67, 74],\n",
       " [68, 74],\n",
       " [69, 74],\n",
       " [70, 74],\n",
       " [71, 74],\n",
       " [72, 74],\n",
       " [73, 74],\n",
       " [74, 74],\n",
       " [76, 99],\n",
       " [77, 99],\n",
       " [78, 99],\n",
       " [79, 99],\n",
       " [80, 99],\n",
       " [81, 99],\n",
       " [82, 99],\n",
       " [83, 99],\n",
       " [84, 99],\n",
       " [85, 99],\n",
       " [86, 99],\n",
       " [87, 99],\n",
       " [88, 99],\n",
       " [89, 99],\n",
       " [90, 99],\n",
       " [91, 99],\n",
       " [92, 99],\n",
       " [93, 99],\n",
       " [94, 99],\n",
       " [95, 99],\n",
       " [96, 99],\n",
       " [97, 99],\n",
       " [98, 99],\n",
       " [99, 99]]"
      ]
     },
     "execution_count": 17,
     "metadata": {},
     "output_type": "execute_result"
    }
   ],
   "source": [
    "findMissingRanges([0,1,3,50,75],0,99)"
   ]
  },
  {
   "cell_type": "markdown",
   "id": "ad8c1e67",
   "metadata": {},
   "source": [
    "Question 8\n",
    "Given an array of meeting time intervals where intervals[i] = [starti, endi],\n",
    "determine if a person could attend all meetings.\n",
    "\n",
    "Example 1:\n",
    "Input: intervals = [[0,30],[5,10],[15,20]]\n",
    "Output: false"
   ]
  },
  {
   "cell_type": "code",
   "execution_count": 18,
   "id": "69e2442d",
   "metadata": {},
   "outputs": [],
   "source": [
    "def canAttendMeetings(intervals):\n",
    "    intervals.sort(key=lambda x: x[0])\n",
    "    for i in range(1, len(intervals)):\n",
    "        if intervals[i][0] < intervals[i-1][1]:\n",
    "            return False\n",
    "    return True\n"
   ]
  },
  {
   "cell_type": "code",
   "execution_count": 19,
   "id": "86391542",
   "metadata": {},
   "outputs": [
    {
     "data": {
      "text/plain": [
       "False"
      ]
     },
     "execution_count": 19,
     "metadata": {},
     "output_type": "execute_result"
    }
   ],
   "source": [
    "canAttendMeetings([[0,30],[5,10],[15,20]])"
   ]
  }
 ],
 "metadata": {
  "kernelspec": {
   "display_name": "Python 3 (ipykernel)",
   "language": "python",
   "name": "python3"
  },
  "language_info": {
   "codemirror_mode": {
    "name": "ipython",
    "version": 3
   },
   "file_extension": ".py",
   "mimetype": "text/x-python",
   "name": "python",
   "nbconvert_exporter": "python",
   "pygments_lexer": "ipython3",
   "version": "3.9.12"
  }
 },
 "nbformat": 4,
 "nbformat_minor": 5
}
