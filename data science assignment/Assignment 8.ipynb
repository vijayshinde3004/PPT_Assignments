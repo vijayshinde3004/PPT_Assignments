{
 "cells": [
  {
   "cell_type": "markdown",
   "id": "89a0197a",
   "metadata": {},
   "source": [
    "# Assignment 8"
   ]
  },
  {
   "cell_type": "markdown",
   "id": "30958010",
   "metadata": {},
   "source": [
    "### Choose a project from an internship portal and try to write a HLD and LLD based on the sample given in your portal for a respective project ."
   ]
  },
  {
   "cell_type": "markdown",
   "id": "07f8179f",
   "metadata": {},
   "source": [
    "## HLD\n",
    "\n",
    "Links:- https://github.com/vijayshinde3004/Insurance_Premium_Prediction/blob/main/Documents/Premium%20prediction%20HLD.pdf.pdf"
   ]
  },
  {
   "cell_type": "markdown",
   "id": "1c0f7ed0",
   "metadata": {},
   "source": [
    "## LLD\n",
    "\n",
    "Links:- https://github.com/vijayshinde3004/Insurance_Premium_Prediction/blob/main/Documents/Premium%20prediction%20LLD.pdf.pdf"
   ]
  }
 ],
 "metadata": {
  "kernelspec": {
   "display_name": "Python 3 (ipykernel)",
   "language": "python",
   "name": "python3"
  },
  "language_info": {
   "codemirror_mode": {
    "name": "ipython",
    "version": 3
   },
   "file_extension": ".py",
   "mimetype": "text/x-python",
   "name": "python",
   "nbconvert_exporter": "python",
   "pygments_lexer": "ipython3",
   "version": "3.9.12"
  }
 },
 "nbformat": 4,
 "nbformat_minor": 5
}
